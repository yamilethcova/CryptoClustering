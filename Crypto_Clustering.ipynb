{
  "cells": [
    {
      "cell_type": "code",
      "execution_count": 1,
      "metadata": {
        "id": "kiECA_Yob8G_"
      },
      "outputs": [],
      "source": [
        "# Import required libraries and dependencies\n",
        "# import numpy as np\n",
        "import pandas as pd\n",
        "#import hvplot.pandas\n",
        "import matplotlib.pyplot as plt\n",
        "from sklearn.cluster import KMeans\n",
        "from sklearn.decomposition import PCA\n",
        "from sklearn.preprocessing import StandardScaler"
      ]
    },
    {
      "cell_type": "code",
      "execution_count": 2,
      "metadata": {
        "id": "bb-NQtEgb8HA",
        "outputId": "02a871ef-5792-45ab-9d26-47a08286bb8b",
        "colab": {
          "base_uri": "https://localhost:8080/",
          "height": 493
        }
      },
      "outputs": [
        {
          "output_type": "execute_result",
          "data": {
            "text/plain": [
              "                 price_change_percentage_24h  price_change_percentage_7d  \\\n",
              "coin_id                                                                    \n",
              "bitcoin                              1.08388                     7.60278   \n",
              "ethereum                             0.22392                    10.38134   \n",
              "tether                              -0.21173                     0.04935   \n",
              "ripple                              -0.37819                    -0.60926   \n",
              "bitcoin-cash                         2.90585                    17.09717   \n",
              "binancecoin                          2.10423                    12.85511   \n",
              "chainlink                           -0.23935                    20.69459   \n",
              "cardano                              0.00322                    13.99302   \n",
              "litecoin                            -0.06341                     6.60221   \n",
              "bitcoin-cash-sv                      0.92530                     3.29641   \n",
              "\n",
              "                 price_change_percentage_14d  price_change_percentage_30d  \\\n",
              "coin_id                                                                     \n",
              "bitcoin                              6.57509                      7.67258   \n",
              "ethereum                             4.80849                      0.13169   \n",
              "tether                               0.00640                     -0.04237   \n",
              "ripple                               2.24984                      0.23455   \n",
              "bitcoin-cash                        14.75334                     15.74903   \n",
              "binancecoin                          6.80688                      0.05865   \n",
              "chainlink                            9.30098                    -11.21747   \n",
              "cardano                              5.55476                     10.10553   \n",
              "litecoin                             7.28931                      1.21662   \n",
              "bitcoin-cash-sv                     -1.86656                      2.88926   \n",
              "\n",
              "                 price_change_percentage_60d  price_change_percentage_200d  \\\n",
              "coin_id                                                                      \n",
              "bitcoin                             -3.25185                      83.51840   \n",
              "ethereum                           -12.88890                     186.77418   \n",
              "tether                               0.28037                      -0.00542   \n",
              "ripple                             -17.55245                      39.53888   \n",
              "bitcoin-cash                       -13.71793                      21.66042   \n",
              "binancecoin                         36.33486                     155.61937   \n",
              "chainlink                          -43.69522                     403.22917   \n",
              "cardano                            -22.84776                     264.51418   \n",
              "litecoin                           -17.23960                      27.49919   \n",
              "bitcoin-cash-sv                    -24.87434                       7.42562   \n",
              "\n",
              "                 price_change_percentage_1y  \n",
              "coin_id                                      \n",
              "bitcoin                            37.51761  \n",
              "ethereum                          101.96023  \n",
              "tether                              0.01954  \n",
              "ripple                            -16.60193  \n",
              "bitcoin-cash                       14.49384  \n",
              "binancecoin                        69.69195  \n",
              "chainlink                         325.13186  \n",
              "cardano                           156.09756  \n",
              "litecoin                          -12.66408  \n",
              "bitcoin-cash-sv                    93.73082  "
            ],
            "text/html": [
              "\n",
              "  <div id=\"df-e9821e19-f5b2-49cf-8d79-14988d275ebf\">\n",
              "    <div class=\"colab-df-container\">\n",
              "      <div>\n",
              "<style scoped>\n",
              "    .dataframe tbody tr th:only-of-type {\n",
              "        vertical-align: middle;\n",
              "    }\n",
              "\n",
              "    .dataframe tbody tr th {\n",
              "        vertical-align: top;\n",
              "    }\n",
              "\n",
              "    .dataframe thead th {\n",
              "        text-align: right;\n",
              "    }\n",
              "</style>\n",
              "<table border=\"1\" class=\"dataframe\">\n",
              "  <thead>\n",
              "    <tr style=\"text-align: right;\">\n",
              "      <th></th>\n",
              "      <th>price_change_percentage_24h</th>\n",
              "      <th>price_change_percentage_7d</th>\n",
              "      <th>price_change_percentage_14d</th>\n",
              "      <th>price_change_percentage_30d</th>\n",
              "      <th>price_change_percentage_60d</th>\n",
              "      <th>price_change_percentage_200d</th>\n",
              "      <th>price_change_percentage_1y</th>\n",
              "    </tr>\n",
              "    <tr>\n",
              "      <th>coin_id</th>\n",
              "      <th></th>\n",
              "      <th></th>\n",
              "      <th></th>\n",
              "      <th></th>\n",
              "      <th></th>\n",
              "      <th></th>\n",
              "      <th></th>\n",
              "    </tr>\n",
              "  </thead>\n",
              "  <tbody>\n",
              "    <tr>\n",
              "      <th>bitcoin</th>\n",
              "      <td>1.08388</td>\n",
              "      <td>7.60278</td>\n",
              "      <td>6.57509</td>\n",
              "      <td>7.67258</td>\n",
              "      <td>-3.25185</td>\n",
              "      <td>83.51840</td>\n",
              "      <td>37.51761</td>\n",
              "    </tr>\n",
              "    <tr>\n",
              "      <th>ethereum</th>\n",
              "      <td>0.22392</td>\n",
              "      <td>10.38134</td>\n",
              "      <td>4.80849</td>\n",
              "      <td>0.13169</td>\n",
              "      <td>-12.88890</td>\n",
              "      <td>186.77418</td>\n",
              "      <td>101.96023</td>\n",
              "    </tr>\n",
              "    <tr>\n",
              "      <th>tether</th>\n",
              "      <td>-0.21173</td>\n",
              "      <td>0.04935</td>\n",
              "      <td>0.00640</td>\n",
              "      <td>-0.04237</td>\n",
              "      <td>0.28037</td>\n",
              "      <td>-0.00542</td>\n",
              "      <td>0.01954</td>\n",
              "    </tr>\n",
              "    <tr>\n",
              "      <th>ripple</th>\n",
              "      <td>-0.37819</td>\n",
              "      <td>-0.60926</td>\n",
              "      <td>2.24984</td>\n",
              "      <td>0.23455</td>\n",
              "      <td>-17.55245</td>\n",
              "      <td>39.53888</td>\n",
              "      <td>-16.60193</td>\n",
              "    </tr>\n",
              "    <tr>\n",
              "      <th>bitcoin-cash</th>\n",
              "      <td>2.90585</td>\n",
              "      <td>17.09717</td>\n",
              "      <td>14.75334</td>\n",
              "      <td>15.74903</td>\n",
              "      <td>-13.71793</td>\n",
              "      <td>21.66042</td>\n",
              "      <td>14.49384</td>\n",
              "    </tr>\n",
              "    <tr>\n",
              "      <th>binancecoin</th>\n",
              "      <td>2.10423</td>\n",
              "      <td>12.85511</td>\n",
              "      <td>6.80688</td>\n",
              "      <td>0.05865</td>\n",
              "      <td>36.33486</td>\n",
              "      <td>155.61937</td>\n",
              "      <td>69.69195</td>\n",
              "    </tr>\n",
              "    <tr>\n",
              "      <th>chainlink</th>\n",
              "      <td>-0.23935</td>\n",
              "      <td>20.69459</td>\n",
              "      <td>9.30098</td>\n",
              "      <td>-11.21747</td>\n",
              "      <td>-43.69522</td>\n",
              "      <td>403.22917</td>\n",
              "      <td>325.13186</td>\n",
              "    </tr>\n",
              "    <tr>\n",
              "      <th>cardano</th>\n",
              "      <td>0.00322</td>\n",
              "      <td>13.99302</td>\n",
              "      <td>5.55476</td>\n",
              "      <td>10.10553</td>\n",
              "      <td>-22.84776</td>\n",
              "      <td>264.51418</td>\n",
              "      <td>156.09756</td>\n",
              "    </tr>\n",
              "    <tr>\n",
              "      <th>litecoin</th>\n",
              "      <td>-0.06341</td>\n",
              "      <td>6.60221</td>\n",
              "      <td>7.28931</td>\n",
              "      <td>1.21662</td>\n",
              "      <td>-17.23960</td>\n",
              "      <td>27.49919</td>\n",
              "      <td>-12.66408</td>\n",
              "    </tr>\n",
              "    <tr>\n",
              "      <th>bitcoin-cash-sv</th>\n",
              "      <td>0.92530</td>\n",
              "      <td>3.29641</td>\n",
              "      <td>-1.86656</td>\n",
              "      <td>2.88926</td>\n",
              "      <td>-24.87434</td>\n",
              "      <td>7.42562</td>\n",
              "      <td>93.73082</td>\n",
              "    </tr>\n",
              "  </tbody>\n",
              "</table>\n",
              "</div>\n",
              "      <button class=\"colab-df-convert\" onclick=\"convertToInteractive('df-e9821e19-f5b2-49cf-8d79-14988d275ebf')\"\n",
              "              title=\"Convert this dataframe to an interactive table.\"\n",
              "              style=\"display:none;\">\n",
              "        \n",
              "  <svg xmlns=\"http://www.w3.org/2000/svg\" height=\"24px\"viewBox=\"0 0 24 24\"\n",
              "       width=\"24px\">\n",
              "    <path d=\"M0 0h24v24H0V0z\" fill=\"none\"/>\n",
              "    <path d=\"M18.56 5.44l.94 2.06.94-2.06 2.06-.94-2.06-.94-.94-2.06-.94 2.06-2.06.94zm-11 1L8.5 8.5l.94-2.06 2.06-.94-2.06-.94L8.5 2.5l-.94 2.06-2.06.94zm10 10l.94 2.06.94-2.06 2.06-.94-2.06-.94-.94-2.06-.94 2.06-2.06.94z\"/><path d=\"M17.41 7.96l-1.37-1.37c-.4-.4-.92-.59-1.43-.59-.52 0-1.04.2-1.43.59L10.3 9.45l-7.72 7.72c-.78.78-.78 2.05 0 2.83L4 21.41c.39.39.9.59 1.41.59.51 0 1.02-.2 1.41-.59l7.78-7.78 2.81-2.81c.8-.78.8-2.07 0-2.86zM5.41 20L4 18.59l7.72-7.72 1.47 1.35L5.41 20z\"/>\n",
              "  </svg>\n",
              "      </button>\n",
              "      \n",
              "  <style>\n",
              "    .colab-df-container {\n",
              "      display:flex;\n",
              "      flex-wrap:wrap;\n",
              "      gap: 12px;\n",
              "    }\n",
              "\n",
              "    .colab-df-convert {\n",
              "      background-color: #E8F0FE;\n",
              "      border: none;\n",
              "      border-radius: 50%;\n",
              "      cursor: pointer;\n",
              "      display: none;\n",
              "      fill: #1967D2;\n",
              "      height: 32px;\n",
              "      padding: 0 0 0 0;\n",
              "      width: 32px;\n",
              "    }\n",
              "\n",
              "    .colab-df-convert:hover {\n",
              "      background-color: #E2EBFA;\n",
              "      box-shadow: 0px 1px 2px rgba(60, 64, 67, 0.3), 0px 1px 3px 1px rgba(60, 64, 67, 0.15);\n",
              "      fill: #174EA6;\n",
              "    }\n",
              "\n",
              "    [theme=dark] .colab-df-convert {\n",
              "      background-color: #3B4455;\n",
              "      fill: #D2E3FC;\n",
              "    }\n",
              "\n",
              "    [theme=dark] .colab-df-convert:hover {\n",
              "      background-color: #434B5C;\n",
              "      box-shadow: 0px 1px 3px 1px rgba(0, 0, 0, 0.15);\n",
              "      filter: drop-shadow(0px 1px 2px rgba(0, 0, 0, 0.3));\n",
              "      fill: #FFFFFF;\n",
              "    }\n",
              "  </style>\n",
              "\n",
              "      <script>\n",
              "        const buttonEl =\n",
              "          document.querySelector('#df-e9821e19-f5b2-49cf-8d79-14988d275ebf button.colab-df-convert');\n",
              "        buttonEl.style.display =\n",
              "          google.colab.kernel.accessAllowed ? 'block' : 'none';\n",
              "\n",
              "        async function convertToInteractive(key) {\n",
              "          const element = document.querySelector('#df-e9821e19-f5b2-49cf-8d79-14988d275ebf');\n",
              "          const dataTable =\n",
              "            await google.colab.kernel.invokeFunction('convertToInteractive',\n",
              "                                                     [key], {});\n",
              "          if (!dataTable) return;\n",
              "\n",
              "          const docLinkHtml = 'Like what you see? Visit the ' +\n",
              "            '<a target=\"_blank\" href=https://colab.research.google.com/notebooks/data_table.ipynb>data table notebook</a>'\n",
              "            + ' to learn more about interactive tables.';\n",
              "          element.innerHTML = '';\n",
              "          dataTable['output_type'] = 'display_data';\n",
              "          await google.colab.output.renderOutput(dataTable, element);\n",
              "          const docLink = document.createElement('div');\n",
              "          docLink.innerHTML = docLinkHtml;\n",
              "          element.appendChild(docLink);\n",
              "        }\n",
              "      </script>\n",
              "    </div>\n",
              "  </div>\n",
              "  "
            ]
          },
          "metadata": {},
          "execution_count": 2
        }
      ],
      "source": [
        "# Load the data into a Pandas DataFrame\n",
        "df_market_data = pd.read_csv(\n",
        "    \"crypto_market_data.csv\",\n",
        "    index_col=\"coin_id\")\n",
        "\n",
        "# Display sample data\n",
        "df_market_data.head(10)"
      ]
    },
    {
      "cell_type": "code",
      "execution_count": 3,
      "metadata": {
        "id": "AfBGVmT-b8HB",
        "outputId": "1a1e873e-34ad-4208-e559-ae339b3d19dc",
        "colab": {
          "base_uri": "https://localhost:8080/",
          "height": 364
        }
      },
      "outputs": [
        {
          "output_type": "execute_result",
          "data": {
            "text/plain": [
              "       price_change_percentage_24h  price_change_percentage_7d  \\\n",
              "count                    41.000000                   41.000000   \n",
              "mean                     -0.269686                    4.497147   \n",
              "std                       2.694793                    6.375218   \n",
              "min                     -13.527860                   -6.094560   \n",
              "25%                      -0.608970                    0.047260   \n",
              "50%                      -0.063410                    3.296410   \n",
              "75%                       0.612090                    7.602780   \n",
              "max                       4.840330                   20.694590   \n",
              "\n",
              "       price_change_percentage_14d  price_change_percentage_30d  \\\n",
              "count                    41.000000                    41.000000   \n",
              "mean                      0.185787                     1.545693   \n",
              "std                       8.376939                    26.344218   \n",
              "min                     -18.158900                   -34.705480   \n",
              "25%                      -5.026620                   -10.438470   \n",
              "50%                       0.109740                    -0.042370   \n",
              "75%                       5.510740                     4.578130   \n",
              "max                      24.239190                   140.795700   \n",
              "\n",
              "       price_change_percentage_60d  price_change_percentage_200d  \\\n",
              "count                    41.000000                     41.000000   \n",
              "mean                     -0.094119                    236.537432   \n",
              "std                      47.365803                    435.225304   \n",
              "min                     -44.822480                     -0.392100   \n",
              "25%                     -25.907990                     21.660420   \n",
              "50%                      -7.544550                     83.905200   \n",
              "75%                       0.657260                    216.177610   \n",
              "max                     223.064370                   2227.927820   \n",
              "\n",
              "       price_change_percentage_1y  \n",
              "count                   41.000000  \n",
              "mean                   347.667956  \n",
              "std                   1247.842884  \n",
              "min                    -17.567530  \n",
              "25%                      0.406170  \n",
              "50%                     69.691950  \n",
              "75%                    168.372510  \n",
              "max                   7852.089700  "
            ],
            "text/html": [
              "\n",
              "  <div id=\"df-72f761eb-8599-43d4-ad35-77d59bf95c2a\">\n",
              "    <div class=\"colab-df-container\">\n",
              "      <div>\n",
              "<style scoped>\n",
              "    .dataframe tbody tr th:only-of-type {\n",
              "        vertical-align: middle;\n",
              "    }\n",
              "\n",
              "    .dataframe tbody tr th {\n",
              "        vertical-align: top;\n",
              "    }\n",
              "\n",
              "    .dataframe thead th {\n",
              "        text-align: right;\n",
              "    }\n",
              "</style>\n",
              "<table border=\"1\" class=\"dataframe\">\n",
              "  <thead>\n",
              "    <tr style=\"text-align: right;\">\n",
              "      <th></th>\n",
              "      <th>price_change_percentage_24h</th>\n",
              "      <th>price_change_percentage_7d</th>\n",
              "      <th>price_change_percentage_14d</th>\n",
              "      <th>price_change_percentage_30d</th>\n",
              "      <th>price_change_percentage_60d</th>\n",
              "      <th>price_change_percentage_200d</th>\n",
              "      <th>price_change_percentage_1y</th>\n",
              "    </tr>\n",
              "  </thead>\n",
              "  <tbody>\n",
              "    <tr>\n",
              "      <th>count</th>\n",
              "      <td>41.000000</td>\n",
              "      <td>41.000000</td>\n",
              "      <td>41.000000</td>\n",
              "      <td>41.000000</td>\n",
              "      <td>41.000000</td>\n",
              "      <td>41.000000</td>\n",
              "      <td>41.000000</td>\n",
              "    </tr>\n",
              "    <tr>\n",
              "      <th>mean</th>\n",
              "      <td>-0.269686</td>\n",
              "      <td>4.497147</td>\n",
              "      <td>0.185787</td>\n",
              "      <td>1.545693</td>\n",
              "      <td>-0.094119</td>\n",
              "      <td>236.537432</td>\n",
              "      <td>347.667956</td>\n",
              "    </tr>\n",
              "    <tr>\n",
              "      <th>std</th>\n",
              "      <td>2.694793</td>\n",
              "      <td>6.375218</td>\n",
              "      <td>8.376939</td>\n",
              "      <td>26.344218</td>\n",
              "      <td>47.365803</td>\n",
              "      <td>435.225304</td>\n",
              "      <td>1247.842884</td>\n",
              "    </tr>\n",
              "    <tr>\n",
              "      <th>min</th>\n",
              "      <td>-13.527860</td>\n",
              "      <td>-6.094560</td>\n",
              "      <td>-18.158900</td>\n",
              "      <td>-34.705480</td>\n",
              "      <td>-44.822480</td>\n",
              "      <td>-0.392100</td>\n",
              "      <td>-17.567530</td>\n",
              "    </tr>\n",
              "    <tr>\n",
              "      <th>25%</th>\n",
              "      <td>-0.608970</td>\n",
              "      <td>0.047260</td>\n",
              "      <td>-5.026620</td>\n",
              "      <td>-10.438470</td>\n",
              "      <td>-25.907990</td>\n",
              "      <td>21.660420</td>\n",
              "      <td>0.406170</td>\n",
              "    </tr>\n",
              "    <tr>\n",
              "      <th>50%</th>\n",
              "      <td>-0.063410</td>\n",
              "      <td>3.296410</td>\n",
              "      <td>0.109740</td>\n",
              "      <td>-0.042370</td>\n",
              "      <td>-7.544550</td>\n",
              "      <td>83.905200</td>\n",
              "      <td>69.691950</td>\n",
              "    </tr>\n",
              "    <tr>\n",
              "      <th>75%</th>\n",
              "      <td>0.612090</td>\n",
              "      <td>7.602780</td>\n",
              "      <td>5.510740</td>\n",
              "      <td>4.578130</td>\n",
              "      <td>0.657260</td>\n",
              "      <td>216.177610</td>\n",
              "      <td>168.372510</td>\n",
              "    </tr>\n",
              "    <tr>\n",
              "      <th>max</th>\n",
              "      <td>4.840330</td>\n",
              "      <td>20.694590</td>\n",
              "      <td>24.239190</td>\n",
              "      <td>140.795700</td>\n",
              "      <td>223.064370</td>\n",
              "      <td>2227.927820</td>\n",
              "      <td>7852.089700</td>\n",
              "    </tr>\n",
              "  </tbody>\n",
              "</table>\n",
              "</div>\n",
              "      <button class=\"colab-df-convert\" onclick=\"convertToInteractive('df-72f761eb-8599-43d4-ad35-77d59bf95c2a')\"\n",
              "              title=\"Convert this dataframe to an interactive table.\"\n",
              "              style=\"display:none;\">\n",
              "        \n",
              "  <svg xmlns=\"http://www.w3.org/2000/svg\" height=\"24px\"viewBox=\"0 0 24 24\"\n",
              "       width=\"24px\">\n",
              "    <path d=\"M0 0h24v24H0V0z\" fill=\"none\"/>\n",
              "    <path d=\"M18.56 5.44l.94 2.06.94-2.06 2.06-.94-2.06-.94-.94-2.06-.94 2.06-2.06.94zm-11 1L8.5 8.5l.94-2.06 2.06-.94-2.06-.94L8.5 2.5l-.94 2.06-2.06.94zm10 10l.94 2.06.94-2.06 2.06-.94-2.06-.94-.94-2.06-.94 2.06-2.06.94z\"/><path d=\"M17.41 7.96l-1.37-1.37c-.4-.4-.92-.59-1.43-.59-.52 0-1.04.2-1.43.59L10.3 9.45l-7.72 7.72c-.78.78-.78 2.05 0 2.83L4 21.41c.39.39.9.59 1.41.59.51 0 1.02-.2 1.41-.59l7.78-7.78 2.81-2.81c.8-.78.8-2.07 0-2.86zM5.41 20L4 18.59l7.72-7.72 1.47 1.35L5.41 20z\"/>\n",
              "  </svg>\n",
              "      </button>\n",
              "      \n",
              "  <style>\n",
              "    .colab-df-container {\n",
              "      display:flex;\n",
              "      flex-wrap:wrap;\n",
              "      gap: 12px;\n",
              "    }\n",
              "\n",
              "    .colab-df-convert {\n",
              "      background-color: #E8F0FE;\n",
              "      border: none;\n",
              "      border-radius: 50%;\n",
              "      cursor: pointer;\n",
              "      display: none;\n",
              "      fill: #1967D2;\n",
              "      height: 32px;\n",
              "      padding: 0 0 0 0;\n",
              "      width: 32px;\n",
              "    }\n",
              "\n",
              "    .colab-df-convert:hover {\n",
              "      background-color: #E2EBFA;\n",
              "      box-shadow: 0px 1px 2px rgba(60, 64, 67, 0.3), 0px 1px 3px 1px rgba(60, 64, 67, 0.15);\n",
              "      fill: #174EA6;\n",
              "    }\n",
              "\n",
              "    [theme=dark] .colab-df-convert {\n",
              "      background-color: #3B4455;\n",
              "      fill: #D2E3FC;\n",
              "    }\n",
              "\n",
              "    [theme=dark] .colab-df-convert:hover {\n",
              "      background-color: #434B5C;\n",
              "      box-shadow: 0px 1px 3px 1px rgba(0, 0, 0, 0.15);\n",
              "      filter: drop-shadow(0px 1px 2px rgba(0, 0, 0, 0.3));\n",
              "      fill: #FFFFFF;\n",
              "    }\n",
              "  </style>\n",
              "\n",
              "      <script>\n",
              "        const buttonEl =\n",
              "          document.querySelector('#df-72f761eb-8599-43d4-ad35-77d59bf95c2a button.colab-df-convert');\n",
              "        buttonEl.style.display =\n",
              "          google.colab.kernel.accessAllowed ? 'block' : 'none';\n",
              "\n",
              "        async function convertToInteractive(key) {\n",
              "          const element = document.querySelector('#df-72f761eb-8599-43d4-ad35-77d59bf95c2a');\n",
              "          const dataTable =\n",
              "            await google.colab.kernel.invokeFunction('convertToInteractive',\n",
              "                                                     [key], {});\n",
              "          if (!dataTable) return;\n",
              "\n",
              "          const docLinkHtml = 'Like what you see? Visit the ' +\n",
              "            '<a target=\"_blank\" href=https://colab.research.google.com/notebooks/data_table.ipynb>data table notebook</a>'\n",
              "            + ' to learn more about interactive tables.';\n",
              "          element.innerHTML = '';\n",
              "          dataTable['output_type'] = 'display_data';\n",
              "          await google.colab.output.renderOutput(dataTable, element);\n",
              "          const docLink = document.createElement('div');\n",
              "          docLink.innerHTML = docLinkHtml;\n",
              "          element.appendChild(docLink);\n",
              "        }\n",
              "      </script>\n",
              "    </div>\n",
              "  </div>\n",
              "  "
            ]
          },
          "metadata": {},
          "execution_count": 3
        }
      ],
      "source": [
        "# Generate summary statistics\n",
        "df_market_data.describe()"
      ]
    },
    {
      "cell_type": "code",
      "execution_count": 4,
      "metadata": {
        "id": "hOgK8Mzsb8HB",
        "outputId": "7b0cb3e5-c030-4228-f6b4-5fa3144c84dd",
        "colab": {
          "base_uri": "https://localhost:8080/",
          "height": 575
        }
      },
      "outputs": [
        {
          "output_type": "execute_result",
          "data": {
            "text/plain": [
              "<Axes: xlabel='coin_id'>"
            ]
          },
          "metadata": {},
          "execution_count": 4
        },
        {
          "output_type": "display_data",
          "data": {
            "text/plain": [
              "<Figure size 640x480 with 1 Axes>"
            ],
            "image/png": "[encoded data removed]"
          },
          "metadata": {}
        }
      ],
      "source": [
        "# Plot your data to see what's in your DataFrame\n",
        "df_market_data.plot.line(rot=90)"
      ]
    },
    {
      "cell_type": "markdown",
      "metadata": {
        "id": "f35ijpkpb8HB"
      },
      "source": [
        "---"
      ]
    },
    {
      "cell_type": "markdown",
      "metadata": {
        "id": "Jz_DJ31ib8HB"
      },
      "source": [
        "### Prepare the Data"
      ]
    },
    {
      "cell_type": "code",
      "source": [
        "# df_market_data.columns"
      ],
      "metadata": {
        "id": "DcMgjyKlmqvD"
      },
      "execution_count": 5,
      "outputs": []
    },
    {
      "cell_type": "code",
      "source": [
        "df_market_data.dtypes"
      ],
      "metadata": {
        "colab": {
          "base_uri": "https://localhost:8080/"
        },
        "id": "eGfD9bVvmepg",
        "outputId": "88d4d0a7-e289-469b-e525-f680ce7ed75e"
      },
      "execution_count": 6,
      "outputs": [
        {
          "output_type": "execute_result",
          "data": {
            "text/plain": [
              "price_change_percentage_24h     float64\n",
              "price_change_percentage_7d      float64\n",
              "price_change_percentage_14d     float64\n",
              "price_change_percentage_30d     float64\n",
              "price_change_percentage_60d     float64\n",
              "price_change_percentage_200d    float64\n",
              "price_change_percentage_1y      float64\n",
              "dtype: object"
            ]
          },
          "metadata": {},
          "execution_count": 6
        }
      ]
    },
    {
      "cell_type": "code",
      "execution_count": 7,
      "metadata": {
        "id": "m1QO5Wr6b8HC"
      },
      "outputs": [],
      "source": [
        "# Use the `StandardScaler()` module from scikit-learn to normalize the data from the CSV file\n",
        "market_data_scaler = StandardScaler().fit_transform(df_market_data)\n",
        "# market_data_scaler.fit(df_market_data)\n"
      ]
    },
    {
      "cell_type": "code",
      "execution_count": 8,
      "metadata": {
        "id": "4T2ZFeFkb8HC",
        "colab": {
          "base_uri": "https://localhost:8080/",
          "height": 319
        },
        "outputId": "40c57eac-d25a-4951-ec66-d13b98cdc022"
      },
      "outputs": [
        {
          "output_type": "execute_result",
          "data": {
            "text/plain": [
              "              price_change_percentage_24h  price_change_percentage_7d  \\\n",
              "coin_id                                                                 \n",
              "bitcoin                          0.508529                    0.493193   \n",
              "ethereum                         0.185446                    0.934445   \n",
              "tether                           0.021774                   -0.706337   \n",
              "ripple                          -0.040764                   -0.810928   \n",
              "bitcoin-cash                     1.193036                    2.000959   \n",
              "\n",
              "              price_change_percentage_14d  price_change_percentage_30d  \\\n",
              "coin_id                                                                  \n",
              "bitcoin                          0.772200                     0.235460   \n",
              "ethereum                         0.558692                    -0.054341   \n",
              "tether                          -0.021680                    -0.061030   \n",
              "ripple                           0.249458                    -0.050388   \n",
              "bitcoin-cash                     1.760610                     0.545842   \n",
              "\n",
              "              price_change_percentage_60d  price_change_percentage_200d  \\\n",
              "coin_id                                                                   \n",
              "bitcoin                         -0.067495                     -0.355953   \n",
              "ethereum                        -0.273483                     -0.115759   \n",
              "tether                           0.008005                     -0.550247   \n",
              "ripple                          -0.373164                     -0.458259   \n",
              "bitcoin-cash                    -0.291203                     -0.499848   \n",
              "\n",
              "              price_change_percentage_1y  \n",
              "coin_id                                   \n",
              "bitcoin                        -0.251637  \n",
              "ethereum                       -0.199352  \n",
              "tether                         -0.282061  \n",
              "ripple                         -0.295546  \n",
              "bitcoin-cash                   -0.270317  "
            ],
            "text/html": [
              "\n",
              "  <div id=\"df-805bd9c6-bbda-46e9-8654-1edd9dfd7737\">\n",
              "    <div class=\"colab-df-container\">\n",
              "      <div>\n",
              "<style scoped>\n",
              "    .dataframe tbody tr th:only-of-type {\n",
              "        vertical-align: middle;\n",
              "    }\n",
              "\n",
              "    .dataframe tbody tr th {\n",
              "        vertical-align: top;\n",
              "    }\n",
              "\n",
              "    .dataframe thead th {\n",
              "        text-align: right;\n",
              "    }\n",
              "</style>\n",
              "<table border=\"1\" class=\"dataframe\">\n",
              "  <thead>\n",
              "    <tr style=\"text-align: right;\">\n",
              "      <th></th>\n",
              "      <th>price_change_percentage_24h</th>\n",
              "      <th>price_change_percentage_7d</th>\n",
              "      <th>price_change_percentage_14d</th>\n",
              "      <th>price_change_percentage_30d</th>\n",
              "      <th>price_change_percentage_60d</th>\n",
              "      <th>price_change_percentage_200d</th>\n",
              "      <th>price_change_percentage_1y</th>\n",
              "    </tr>\n",
              "    <tr>\n",
              "      <th>coin_id</th>\n",
              "      <th></th>\n",
              "      <th></th>\n",
              "      <th></th>\n",
              "      <th></th>\n",
              "      <th></th>\n",
              "      <th></th>\n",
              "      <th></th>\n",
              "    </tr>\n",
              "  </thead>\n",
              "  <tbody>\n",
              "    <tr>\n",
              "      <th>bitcoin</th>\n",
              "      <td>0.508529</td>\n",
              "      <td>0.493193</td>\n",
              "      <td>0.772200</td>\n",
              "      <td>0.235460</td>\n",
              "      <td>-0.067495</td>\n",
              "      <td>-0.355953</td>\n",
              "      <td>-0.251637</td>\n",
              "    </tr>\n",
              "    <tr>\n",
              "      <th>ethereum</th>\n",
              "      <td>0.185446</td>\n",
              "      <td>0.934445</td>\n",
              "      <td>0.558692</td>\n",
              "      <td>-0.054341</td>\n",
              "      <td>-0.273483</td>\n",
              "      <td>-0.115759</td>\n",
              "      <td>-0.199352</td>\n",
              "    </tr>\n",
              "    <tr>\n",
              "      <th>tether</th>\n",
              "      <td>0.021774</td>\n",
              "      <td>-0.706337</td>\n",
              "      <td>-0.021680</td>\n",
              "      <td>-0.061030</td>\n",
              "      <td>0.008005</td>\n",
              "      <td>-0.550247</td>\n",
              "      <td>-0.282061</td>\n",
              "    </tr>\n",
              "    <tr>\n",
              "      <th>ripple</th>\n",
              "      <td>-0.040764</td>\n",
              "      <td>-0.810928</td>\n",
              "      <td>0.249458</td>\n",
              "      <td>-0.050388</td>\n",
              "      <td>-0.373164</td>\n",
              "      <td>-0.458259</td>\n",
              "      <td>-0.295546</td>\n",
              "    </tr>\n",
              "    <tr>\n",
              "      <th>bitcoin-cash</th>\n",
              "      <td>1.193036</td>\n",
              "      <td>2.000959</td>\n",
              "      <td>1.760610</td>\n",
              "      <td>0.545842</td>\n",
              "      <td>-0.291203</td>\n",
              "      <td>-0.499848</td>\n",
              "      <td>-0.270317</td>\n",
              "    </tr>\n",
              "  </tbody>\n",
              "</table>\n",
              "</div>\n",
              "      <button class=\"colab-df-convert\" onclick=\"convertToInteractive('df-805bd9c6-bbda-46e9-8654-1edd9dfd7737')\"\n",
              "              title=\"Convert this dataframe to an interactive table.\"\n",
              "              style=\"display:none;\">\n",
              "        \n",
              "  <svg xmlns=\"http://www.w3.org/2000/svg\" height=\"24px\"viewBox=\"0 0 24 24\"\n",
              "       width=\"24px\">\n",
              "    <path d=\"M0 0h24v24H0V0z\" fill=\"none\"/>\n",
              "    <path d=\"M18.56 5.44l.94 2.06.94-2.06 2.06-.94-2.06-.94-.94-2.06-.94 2.06-2.06.94zm-11 1L8.5 8.5l.94-2.06 2.06-.94-2.06-.94L8.5 2.5l-.94 2.06-2.06.94zm10 10l.94 2.06.94-2.06 2.06-.94-2.06-.94-.94-2.06-.94 2.06-2.06.94z\"/><path d=\"M17.41 7.96l-1.37-1.37c-.4-.4-.92-.59-1.43-.59-.52 0-1.04.2-1.43.59L10.3 9.45l-7.72 7.72c-.78.78-.78 2.05 0 2.83L4 21.41c.39.39.9.59 1.41.59.51 0 1.02-.2 1.41-.59l7.78-7.78 2.81-2.81c.8-.78.8-2.07 0-2.86zM5.41 20L4 18.59l7.72-7.72 1.47 1.35L5.41 20z\"/>\n",
              "  </svg>\n",
              "      </button>\n",
              "      \n",
              "  <style>\n",
              "    .colab-df-container {\n",
              "      display:flex;\n",
              "      flex-wrap:wrap;\n",
              "      gap: 12px;\n",
              "    }\n",
              "\n",
              "    .colab-df-convert {\n",
              "      background-color: #E8F0FE;\n",
              "      border: none;\n",
              "      border-radius: 50%;\n",
              "      cursor: pointer;\n",
              "      display: none;\n",
              "      fill: #1967D2;\n",
              "      height: 32px;\n",
              "      padding: 0 0 0 0;\n",
              "      width: 32px;\n",
              "    }\n",
              "\n",
              "    .colab-df-convert:hover {\n",
              "      background-color: #E2EBFA;\n",
              "      box-shadow: 0px 1px 2px rgba(60, 64, 67, 0.3), 0px 1px 3px 1px rgba(60, 64, 67, 0.15);\n",
              "      fill: #174EA6;\n",
              "    }\n",
              "\n",
              "    [theme=dark] .colab-df-convert {\n",
              "      background-color: #3B4455;\n",
              "      fill: #D2E3FC;\n",
              "    }\n",
              "\n",
              "    [theme=dark] .colab-df-convert:hover {\n",
              "      background-color: #434B5C;\n",
              "      box-shadow: 0px 1px 3px 1px rgba(0, 0, 0, 0.15);\n",
              "      filter: drop-shadow(0px 1px 2px rgba(0, 0, 0, 0.3));\n",
              "      fill: #FFFFFF;\n",
              "    }\n",
              "  </style>\n",
              "\n",
              "      <script>\n",
              "        const buttonEl =\n",
              "          document.querySelector('#df-805bd9c6-bbda-46e9-8654-1edd9dfd7737 button.colab-df-convert');\n",
              "        buttonEl.style.display =\n",
              "          google.colab.kernel.accessAllowed ? 'block' : 'none';\n",
              "\n",
              "        async function convertToInteractive(key) {\n",
              "          const element = document.querySelector('#df-805bd9c6-bbda-46e9-8654-1edd9dfd7737');\n",
              "          const dataTable =\n",
              "            await google.colab.kernel.invokeFunction('convertToInteractive',\n",
              "                                                     [key], {});\n",
              "          if (!dataTable) return;\n",
              "\n",
              "          const docLinkHtml = 'Like what you see? Visit the ' +\n",
              "            '<a target=\"_blank\" href=https://colab.research.google.com/notebooks/data_table.ipynb>data table notebook</a>'\n",
              "            + ' to learn more about interactive tables.';\n",
              "          element.innerHTML = '';\n",
              "          dataTable['output_type'] = 'display_data';\n",
              "          await google.colab.output.renderOutput(dataTable, element);\n",
              "          const docLink = document.createElement('div');\n",
              "          docLink.innerHTML = docLinkHtml;\n",
              "          element.appendChild(docLink);\n",
              "        }\n",
              "      </script>\n",
              "    </div>\n",
              "  </div>\n",
              "  "
            ]
          },
          "metadata": {},
          "execution_count": 8
        }
      ],
      "source": [
        "# Create a DataFrame with the scaled data\n",
        "# df_market_data_scaled = pd.DataFrame(market_data_scaler.transform(df_market_data), index=df_market_data.index)\n",
        "# df_market_data_scaled.plot.line(rot=90)\n",
        "df_market_data_scaled=pd.DataFrame(market_data_scaler, columns= df_market_data.columns)\n",
        "\n",
        "# Copy the crypto names from the original data\n",
        "df_market_data_scaled['coin_id']=df_market_data.index\n",
        "# Set the coinid column as index\n",
        "df_market_data_scaled=df_market_data_scaled.set_index('coin_id')\n",
        "\n",
        "# Display sample data\n",
        "df_market_data_scaled.head()"
      ]
    },
    {
      "cell_type": "markdown",
      "metadata": {
        "id": "MDkG1jSMb8HC"
      },
      "source": [
        "---"
      ]
    },
    {
      "cell_type": "markdown",
      "metadata": {
        "id": "3IUzEMfBb8HC"
      },
      "source": [
        "### Find the Best Value for k Using the Original Data."
      ]
    },
    {
      "cell_type": "code",
      "execution_count": 9,
      "metadata": {
        "id": "xnt2_j82b8HC"
      },
      "outputs": [],
      "source": [
        "# Create a list with the number of k-values from 1 to 11\n",
        "k=list(range(1,11))"
      ]
    },
    {
      "cell_type": "code",
      "execution_count": 10,
      "metadata": {
        "id": "AK2Knstjb8HC",
        "colab": {
          "base_uri": "https://localhost:8080/"
        },
        "outputId": "eb7ef42d-746d-4797-c449-4c19de50cd45"
      },
      "outputs": [
        {
          "output_type": "stream",
          "name": "stderr",
          "text": [
            "/usr/local/lib/python3.10/dist-packages/sklearn/cluster/_kmeans.py:870: FutureWarning: The default value of `n_init` will change from 10 to 'auto' in 1.4. Set the value of `n_init` explicitly to suppress the warning\n",
            "  warnings.warn(\n",
            "/usr/local/lib/python3.10/dist-packages/sklearn/cluster/_kmeans.py:870: FutureWarning: The default value of `n_init` will change from 10 to 'auto' in 1.4. Set the value of `n_init` explicitly to suppress the warning\n",
            "  warnings.warn(\n",
            "/usr/local/lib/python3.10/dist-packages/sklearn/cluster/_kmeans.py:870: FutureWarning: The default value of `n_init` will change from 10 to 'auto' in 1.4. Set the value of `n_init` explicitly to suppress the warning\n",
            "  warnings.warn(\n",
            "/usr/local/lib/python3.10/dist-packages/sklearn/cluster/_kmeans.py:870: FutureWarning: The default value of `n_init` will change from 10 to 'auto' in 1.4. Set the value of `n_init` explicitly to suppress the warning\n",
            "  warnings.warn(\n",
            "/usr/local/lib/python3.10/dist-packages/sklearn/cluster/_kmeans.py:870: FutureWarning: The default value of `n_init` will change from 10 to 'auto' in 1.4. Set the value of `n_init` explicitly to suppress the warning\n",
            "  warnings.warn(\n",
            "/usr/local/lib/python3.10/dist-packages/sklearn/cluster/_kmeans.py:870: FutureWarning: The default value of `n_init` will change from 10 to 'auto' in 1.4. Set the value of `n_init` explicitly to suppress the warning\n",
            "  warnings.warn(\n",
            "/usr/local/lib/python3.10/dist-packages/sklearn/cluster/_kmeans.py:870: FutureWarning: The default value of `n_init` will change from 10 to 'auto' in 1.4. Set the value of `n_init` explicitly to suppress the warning\n",
            "  warnings.warn(\n",
            "/usr/local/lib/python3.10/dist-packages/sklearn/cluster/_kmeans.py:870: FutureWarning: The default value of `n_init` will change from 10 to 'auto' in 1.4. Set the value of `n_init` explicitly to suppress the warning\n",
            "  warnings.warn(\n",
            "/usr/local/lib/python3.10/dist-packages/sklearn/cluster/_kmeans.py:870: FutureWarning: The default value of `n_init` will change from 10 to 'auto' in 1.4. Set the value of `n_init` explicitly to suppress the warning\n",
            "  warnings.warn(\n",
            "/usr/local/lib/python3.10/dist-packages/sklearn/cluster/_kmeans.py:870: FutureWarning: The default value of `n_init` will change from 10 to 'auto' in 1.4. Set the value of `n_init` explicitly to suppress the warning\n",
            "  warnings.warn(\n"
          ]
        }
      ],
      "source": [
        "# Create an empty list to store the inertia values\n",
        "inertias = []\n",
        "# Create a for loop to compute the inertia with each possible value of k\n",
        "# Inside the loop:\n",
        "# 1. Create a KMeans model using the loop counter for the n_clusters\n",
        "# 2. Fit the model to the data using `df_market_data_scaled`\n",
        "# 3. Append the model.inertia_ to the inertia list\n",
        "for i in k:\n",
        "  model= KMeans(n_clusters=i,random_state=0)\n",
        "  model.fit(df_market_data_scaled)\n",
        "  inertias.append(model.inertia_)\n"
      ]
    },
    {
      "cell_type": "code",
      "source": [
        "inertias"
      ],
      "metadata": {
        "colab": {
          "base_uri": "https://localhost:8080/"
        },
        "id": "DDFsSwfzIXtG",
        "outputId": "7a301f33-b01a-4cc6-8595-92f03f058ded"
      },
      "execution_count": 11,
      "outputs": [
        {
          "output_type": "execute_result",
          "data": {
            "text/plain": [
              "[287.0,\n",
              " 195.82021818036043,\n",
              " 123.19048183836958,\n",
              " 79.02243535120977,\n",
              " 65.302379141625,\n",
              " 52.888518219775314,\n",
              " 43.91469044757747,\n",
              " 37.517032490103574,\n",
              " 32.485240832183536,\n",
              " 28.22289929060893]"
            ]
          },
          "metadata": {},
          "execution_count": 11
        }
      ]
    },
    {
      "cell_type": "code",
      "execution_count": 12,
      "metadata": {
        "id": "0v-t3rv1b8HC",
        "colab": {
          "base_uri": "https://localhost:8080/",
          "height": 206
        },
        "outputId": "3b6c251a-5770-4395-b9bf-db336d91b89a"
      },
      "outputs": [
        {
          "output_type": "execute_result",
          "data": {
            "text/plain": [
              "   k     Inertia\n",
              "0  1  287.000000\n",
              "1  2  195.820218\n",
              "2  3  123.190482\n",
              "3  4   79.022435\n",
              "4  5   65.302379"
            ],
            "text/html": [
              "\n",
              "  <div id=\"df-946598de-1119-44c4-b102-cacaaff25fbb\">\n",
              "    <div class=\"colab-df-container\">\n",
              "      <div>\n",
              "<style scoped>\n",
              "    .dataframe tbody tr th:only-of-type {\n",
              "        vertical-align: middle;\n",
              "    }\n",
              "\n",
              "    .dataframe tbody tr th {\n",
              "        vertical-align: top;\n",
              "    }\n",
              "\n",
              "    .dataframe thead th {\n",
              "        text-align: right;\n",
              "    }\n",
              "</style>\n",
              "<table border=\"1\" class=\"dataframe\">\n",
              "  <thead>\n",
              "    <tr style=\"text-align: right;\">\n",
              "      <th></th>\n",
              "      <th>k</th>\n",
              "      <th>Inertia</th>\n",
              "    </tr>\n",
              "  </thead>\n",
              "  <tbody>\n",
              "    <tr>\n",
              "      <th>0</th>\n",
              "      <td>1</td>\n",
              "      <td>287.000000</td>\n",
              "    </tr>\n",
              "    <tr>\n",
              "      <th>1</th>\n",
              "      <td>2</td>\n",
              "      <td>195.820218</td>\n",
              "    </tr>\n",
              "    <tr>\n",
              "      <th>2</th>\n",
              "      <td>3</td>\n",
              "      <td>123.190482</td>\n",
              "    </tr>\n",
              "    <tr>\n",
              "      <th>3</th>\n",
              "      <td>4</td>\n",
              "      <td>79.022435</td>\n",
              "    </tr>\n",
              "    <tr>\n",
              "      <th>4</th>\n",
              "      <td>5</td>\n",
              "      <td>65.302379</td>\n",
              "    </tr>\n",
              "  </tbody>\n",
              "</table>\n",
              "</div>\n",
              "      <button class=\"colab-df-convert\" onclick=\"convertToInteractive('df-946598de-1119-44c4-b102-cacaaff25fbb')\"\n",
              "              title=\"Convert this dataframe to an interactive table.\"\n",
              "              style=\"display:none;\">\n",
              "        \n",
              "  <svg xmlns=\"http://www.w3.org/2000/svg\" height=\"24px\"viewBox=\"0 0 24 24\"\n",
              "       width=\"24px\">\n",
              "    <path d=\"M0 0h24v24H0V0z\" fill=\"none\"/>\n",
              "    <path d=\"M18.56 5.44l.94 2.06.94-2.06 2.06-.94-2.06-.94-.94-2.06-.94 2.06-2.06.94zm-11 1L8.5 8.5l.94-2.06 2.06-.94-2.06-.94L8.5 2.5l-.94 2.06-2.06.94zm10 10l.94 2.06.94-2.06 2.06-.94-2.06-.94-.94-2.06-.94 2.06-2.06.94z\"/><path d=\"M17.41 7.96l-1.37-1.37c-.4-.4-.92-.59-1.43-.59-.52 0-1.04.2-1.43.59L10.3 9.45l-7.72 7.72c-.78.78-.78 2.05 0 2.83L4 21.41c.39.39.9.59 1.41.59.51 0 1.02-.2 1.41-.59l7.78-7.78 2.81-2.81c.8-.78.8-2.07 0-2.86zM5.41 20L4 18.59l7.72-7.72 1.47 1.35L5.41 20z\"/>\n",
              "  </svg>\n",
              "      </button>\n",
              "      \n",
              "  <style>\n",
              "    .colab-df-container {\n",
              "      display:flex;\n",
              "      flex-wrap:wrap;\n",
              "      gap: 12px;\n",
              "    }\n",
              "\n",
              "    .colab-df-convert {\n",
              "      background-color: #E8F0FE;\n",
              "      border: none;\n",
              "      border-radius: 50%;\n",
              "      cursor: pointer;\n",
              "      display: none;\n",
              "      fill: #1967D2;\n",
              "      height: 32px;\n",
              "      padding: 0 0 0 0;\n",
              "      width: 32px;\n",
              "    }\n",
              "\n",
              "    .colab-df-convert:hover {\n",
              "      background-color: #E2EBFA;\n",
              "      box-shadow: 0px 1px 2px rgba(60, 64, 67, 0.3), 0px 1px 3px 1px rgba(60, 64, 67, 0.15);\n",
              "      fill: #174EA6;\n",
              "    }\n",
              "\n",
              "    [theme=dark] .colab-df-convert {\n",
              "      background-color: #3B4455;\n",
              "      fill: #D2E3FC;\n",
              "    }\n",
              "\n",
              "    [theme=dark] .colab-df-convert:hover {\n",
              "      background-color: #434B5C;\n",
              "      box-shadow: 0px 1px 3px 1px rgba(0, 0, 0, 0.15);\n",
              "      filter: drop-shadow(0px 1px 2px rgba(0, 0, 0, 0.3));\n",
              "      fill: #FFFFFF;\n",
              "    }\n",
              "  </style>\n",
              "\n",
              "      <script>\n",
              "        const buttonEl =\n",
              "          document.querySelector('#df-946598de-1119-44c4-b102-cacaaff25fbb button.colab-df-convert');\n",
              "        buttonEl.style.display =\n",
              "          google.colab.kernel.accessAllowed ? 'block' : 'none';\n",
              "\n",
              "        async function convertToInteractive(key) {\n",
              "          const element = document.querySelector('#df-946598de-1119-44c4-b102-cacaaff25fbb');\n",
              "          const dataTable =\n",
              "            await google.colab.kernel.invokeFunction('convertToInteractive',\n",
              "                                                     [key], {});\n",
              "          if (!dataTable) return;\n",
              "\n",
              "          const docLinkHtml = 'Like what you see? Visit the ' +\n",
              "            '<a target=\"_blank\" href=https://colab.research.google.com/notebooks/data_table.ipynb>data table notebook</a>'\n",
              "            + ' to learn more about interactive tables.';\n",
              "          element.innerHTML = '';\n",
              "          dataTable['output_type'] = 'display_data';\n",
              "          await google.colab.output.renderOutput(dataTable, element);\n",
              "          const docLink = document.createElement('div');\n",
              "          docLink.innerHTML = docLinkHtml;\n",
              "          element.appendChild(docLink);\n",
              "        }\n",
              "      </script>\n",
              "    </div>\n",
              "  </div>\n",
              "  "
            ]
          },
          "metadata": {},
          "execution_count": 12
        }
      ],
      "source": [
        "# Create a dictionary with the data to plot the Elbow curve\n",
        "elbow_data={'k': k,'Inertia':inertias}\n",
        "\n",
        "# Create a DataFrame with the data to plot the Elbow curve\n",
        "# elbow_data = {\"k\": list(range(1,11)), \"Inertia\": inertias}\n",
        "elbow_df= pd.DataFrame(elbow_data)\n",
        "elbow_df.head()"
      ]
    },
    {
      "cell_type": "code",
      "execution_count": 13,
      "metadata": {
        "id": "bsvxjuVGb8HD",
        "colab": {
          "base_uri": "https://localhost:8080/",
          "height": 467
        },
        "outputId": "6ea2dab8-75ea-40d3-a19c-69c810e500a8"
      },
      "outputs": [
        {
          "output_type": "execute_result",
          "data": {
            "text/plain": [
              "<Axes: xlabel='k'>"
            ]
          },
          "metadata": {},
          "execution_count": 13
        },
        {
          "output_type": "display_data",
          "data": {
            "text/plain": [
              "<Figure size 640x480 with 1 Axes>"
            ],
            "image/png": "[encoded data removed]"
          },
          "metadata": {}
        }
      ],
      "source": [
        "# Plot a line chart with all the inertia values computed with\n",
        "# the different values of k to visually identify the optimal value for k.\n",
        "elbow_df.plot.line('k','Inertia')"
      ]
    },
    {
      "cell_type": "markdown",
      "metadata": {
        "id": "BNIPKkwGb8HD"
      },
      "source": [
        "#### Answer the following question:\n",
        "\n",
        "**Question:** What is the best value for `k`?\n",
        "\n",
        "**Answer:** = 4 been the lower number for 'k' and Inertia"
      ]
    },
    {
      "cell_type": "markdown",
      "metadata": {
        "id": "6A055G3Db8HD"
      },
      "source": [
        "---"
      ]
    },
    {
      "cell_type": "markdown",
      "metadata": {
        "id": "sHt5x8Xjb8HD"
      },
      "source": [
        "### Cluster Cryptocurrencies with K-means Using the Original Data"
      ]
    },
    {
      "cell_type": "code",
      "execution_count": 14,
      "metadata": {
        "id": "9StIychob8HD"
      },
      "outputs": [],
      "source": [
        "# Initialize the K-Means model using the best value for k\n",
        "model = KMeans(n_clusters=4)"
      ]
    },
    {
      "cell_type": "code",
      "execution_count": 15,
      "metadata": {
        "id": "88aVF8mZb8HD",
        "colab": {
          "base_uri": "https://localhost:8080/",
          "height": 130
        },
        "outputId": "c8de4ed8-adc3-45e3-e450-cd462c750f64"
      },
      "outputs": [
        {
          "output_type": "stream",
          "name": "stderr",
          "text": [
            "/usr/local/lib/python3.10/dist-packages/sklearn/cluster/_kmeans.py:870: FutureWarning: The default value of `n_init` will change from 10 to 'auto' in 1.4. Set the value of `n_init` explicitly to suppress the warning\n",
            "  warnings.warn(\n"
          ]
        },
        {
          "output_type": "execute_result",
          "data": {
            "text/plain": [
              "KMeans(n_clusters=4)"
            ],
            "text/html": [
              "<style>#sk-container-id-1 {color: black;background-color: white;}#sk-container-id-1 pre{padding: 0;}#sk-container-id-1 div.sk-toggleable {background-color: white;}#sk-container-id-1 label.sk-toggleable__label {cursor: pointer;display: block;width: 100%;margin-bottom: 0;padding: 0.3em;box-sizing: border-box;text-align: center;}#sk-container-id-1 label.sk-toggleable__label-arrow:before {content: \"▸\";float: left;margin-right: 0.25em;color: #696969;}#sk-container-id-1 label.sk-toggleable__label-arrow:hover:before {color: black;}#sk-container-id-1 div.sk-estimator:hover label.sk-toggleable__label-arrow:before {color: black;}#sk-container-id-1 div.sk-toggleable__content {max-height: 0;max-width: 0;overflow: hidden;text-align: left;background-color: #f0f8ff;}#sk-container-id-1 div.sk-toggleable__content pre {margin: 0.2em;color: black;border-radius: 0.25em;background-color: #f0f8ff;}#sk-container-id-1 input.sk-toggleable__control:checked~div.sk-toggleable__content {max-height: 200px;max-width: 100%;overflow: auto;}#sk-container-id-1 input.sk-toggleable__control:checked~label.sk-toggleable__label-arrow:before {content: \"▾\";}#sk-container-id-1 div.sk-estimator input.sk-toggleable__control:checked~label.sk-toggleable__label {background-color: #d4ebff;}#sk-container-id-1 div.sk-label input.sk-toggleable__control:checked~label.sk-toggleable__label {background-color: #d4ebff;}#sk-container-id-1 input.sk-hidden--visually {border: 0;clip: rect(1px 1px 1px 1px);clip: rect(1px, 1px, 1px, 1px);height: 1px;margin: -1px;overflow: hidden;padding: 0;position: absolute;width: 1px;}#sk-container-id-1 div.sk-estimator {font-family: monospace;background-color: #f0f8ff;border: 1px dotted black;border-radius: 0.25em;box-sizing: border-box;margin-bottom: 0.5em;}#sk-container-id-1 div.sk-estimator:hover {background-color: #d4ebff;}#sk-container-id-1 div.sk-parallel-item::after {content: \"\";width: 100%;border-bottom: 1px solid gray;flex-grow: 1;}#sk-container-id-1 div.sk-label:hover label.sk-toggleable__label {background-color: #d4ebff;}#sk-container-id-1 div.sk-serial::before {content: \"\";position: absolute;border-left: 1px solid gray;box-sizing: border-box;top: 0;bottom: 0;left: 50%;z-index: 0;}#sk-container-id-1 div.sk-serial {display: flex;flex-direction: column;align-items: center;background-color: white;padding-right: 0.2em;padding-left: 0.2em;position: relative;}#sk-container-id-1 div.sk-item {position: relative;z-index: 1;}#sk-container-id-1 div.sk-parallel {display: flex;align-items: stretch;justify-content: center;background-color: white;position: relative;}#sk-container-id-1 div.sk-item::before, #sk-container-id-1 div.sk-parallel-item::before {content: \"\";position: absolute;border-left: 1px solid gray;box-sizing: border-box;top: 0;bottom: 0;left: 50%;z-index: -1;}#sk-container-id-1 div.sk-parallel-item {display: flex;flex-direction: column;z-index: 1;position: relative;background-color: white;}#sk-container-id-1 div.sk-parallel-item:first-child::after {align-self: flex-end;width: 50%;}#sk-container-id-1 div.sk-parallel-item:last-child::after {align-self: flex-start;width: 50%;}#sk-container-id-1 div.sk-parallel-item:only-child::after {width: 0;}#sk-container-id-1 div.sk-dashed-wrapped {border: 1px dashed gray;margin: 0 0.4em 0.5em 0.4em;box-sizing: border-box;padding-bottom: 0.4em;background-color: white;}#sk-container-id-1 div.sk-label label {font-family: monospace;font-weight: bold;display: inline-block;line-height: 1.2em;}#sk-container-id-1 div.sk-label-container {text-align: center;}#sk-container-id-1 div.sk-container {/* jupyter's `normalize.less` sets `[hidden] { display: none; }` but bootstrap.min.css set `[hidden] { display: none !important; }` so we also need the `!important` here to be able to override the default hidden behavior on the sphinx rendered scikit-learn.org. See: https://github.com/scikit-learn/scikit-learn/issues/21755 */display: inline-block !important;position: relative;}#sk-container-id-1 div.sk-text-repr-fallback {display: none;}</style><div id=\"sk-container-id-1\" class=\"sk-top-container\"><div class=\"sk-text-repr-fallback\"><pre>KMeans(n_clusters=4)</pre><b>In a Jupyter environment, please rerun this cell to show the HTML representation or trust the notebook. <br />On GitHub, the HTML representation is unable to render, please try loading this page with nbviewer.org.</b></div><div class=\"sk-container\" hidden><div class=\"sk-item\"><div class=\"sk-estimator sk-toggleable\"><input class=\"sk-toggleable__control sk-hidden--visually\" id=\"sk-estimator-id-1\" type=\"checkbox\" checked><label for=\"sk-estimator-id-1\" class=\"sk-toggleable__label sk-toggleable__label-arrow\">KMeans</label><div class=\"sk-toggleable__content\"><pre>KMeans(n_clusters=4)</pre></div></div></div></div></div>"
            ]
          },
          "metadata": {},
          "execution_count": 15
        }
      ],
      "source": [
        "# Fit the K-Means model using the scaled data\n",
        "model.fit(df_market_data_scaled)"
      ]
    },
    {
      "cell_type": "code",
      "execution_count": 16,
      "metadata": {
        "id": "UR8NwxmYb8HD",
        "colab": {
          "base_uri": "https://localhost:8080/"
        },
        "outputId": "7b569de1-3bdb-47ec-ecec-4edeeb076d5e"
      },
      "outputs": [
        {
          "output_type": "execute_result",
          "data": {
            "text/plain": [
              "array([0, 0, 2, 2, 0, 0, 0, 0, 0, 2, 2, 2, 2, 0, 2, 0, 2, 2, 0, 2, 2, 0,\n",
              "       2, 2, 2, 2, 2, 2, 0, 2, 2, 2, 1, 0, 2, 2, 3, 2, 2, 2, 2],\n",
              "      dtype=int32)"
            ]
          },
          "metadata": {},
          "execution_count": 16
        }
      ],
      "source": [
        "# Predict the clusters to group the cryptocurrencies using the scaled data\n",
        "market_data_pred=model.predict(df_market_data_scaled)\n",
        "# Print the resulting array of cluster values.\n",
        "market_data_pred"
      ]
    },
    {
      "cell_type": "code",
      "execution_count": 17,
      "metadata": {
        "id": "B8Suh_ILb8HD"
      },
      "outputs": [],
      "source": [
        "# Create a copy of the DataFrame\n",
        "market_data_df_3 = df_market_data_scaled.copy()"
      ]
    },
    {
      "cell_type": "code",
      "execution_count": 18,
      "metadata": {
        "id": "3jU_mD1yb8HE",
        "colab": {
          "base_uri": "https://localhost:8080/",
          "height": 176
        },
        "outputId": "f202a582-bbd6-401f-bced-cf668bdf43a8"
      },
      "outputs": [
        {
          "output_type": "execute_result",
          "data": {
            "text/plain": [
              "         price_change_percentage_24h  price_change_percentage_7d  \\\n",
              "coin_id                                                            \n",
              "okb                        -0.923203                   -1.437359   \n",
              "\n",
              "         price_change_percentage_14d  price_change_percentage_30d  \\\n",
              "coin_id                                                             \n",
              "okb                        -0.629963                    -0.460558   \n",
              "\n",
              "         price_change_percentage_60d  price_change_percentage_200d  \\\n",
              "coin_id                                                              \n",
              "okb                        -0.058504                     -0.457283   \n",
              "\n",
              "         price_change_percentage_1y  segment_3  \n",
              "coin_id                                         \n",
              "okb                         -0.1669          2  "
            ],
            "text/html": [
              "\n",
              "  <div id=\"df-65930245-771e-4588-b18c-2a7f79d7ec50\">\n",
              "    <div class=\"colab-df-container\">\n",
              "      <div>\n",
              "<style scoped>\n",
              "    .dataframe tbody tr th:only-of-type {\n",
              "        vertical-align: middle;\n",
              "    }\n",
              "\n",
              "    .dataframe tbody tr th {\n",
              "        vertical-align: top;\n",
              "    }\n",
              "\n",
              "    .dataframe thead th {\n",
              "        text-align: right;\n",
              "    }\n",
              "</style>\n",
              "<table border=\"1\" class=\"dataframe\">\n",
              "  <thead>\n",
              "    <tr style=\"text-align: right;\">\n",
              "      <th></th>\n",
              "      <th>price_change_percentage_24h</th>\n",
              "      <th>price_change_percentage_7d</th>\n",
              "      <th>price_change_percentage_14d</th>\n",
              "      <th>price_change_percentage_30d</th>\n",
              "      <th>price_change_percentage_60d</th>\n",
              "      <th>price_change_percentage_200d</th>\n",
              "      <th>price_change_percentage_1y</th>\n",
              "      <th>segment_3</th>\n",
              "    </tr>\n",
              "    <tr>\n",
              "      <th>coin_id</th>\n",
              "      <th></th>\n",
              "      <th></th>\n",
              "      <th></th>\n",
              "      <th></th>\n",
              "      <th></th>\n",
              "      <th></th>\n",
              "      <th></th>\n",
              "      <th></th>\n",
              "    </tr>\n",
              "  </thead>\n",
              "  <tbody>\n",
              "    <tr>\n",
              "      <th>okb</th>\n",
              "      <td>-0.923203</td>\n",
              "      <td>-1.437359</td>\n",
              "      <td>-0.629963</td>\n",
              "      <td>-0.460558</td>\n",
              "      <td>-0.058504</td>\n",
              "      <td>-0.457283</td>\n",
              "      <td>-0.1669</td>\n",
              "      <td>2</td>\n",
              "    </tr>\n",
              "  </tbody>\n",
              "</table>\n",
              "</div>\n",
              "      <button class=\"colab-df-convert\" onclick=\"convertToInteractive('df-65930245-771e-4588-b18c-2a7f79d7ec50')\"\n",
              "              title=\"Convert this dataframe to an interactive table.\"\n",
              "              style=\"display:none;\">\n",
              "        \n",
              "  <svg xmlns=\"http://www.w3.org/2000/svg\" height=\"24px\"viewBox=\"0 0 24 24\"\n",
              "       width=\"24px\">\n",
              "    <path d=\"M0 0h24v24H0V0z\" fill=\"none\"/>\n",
              "    <path d=\"M18.56 5.44l.94 2.06.94-2.06 2.06-.94-2.06-.94-.94-2.06-.94 2.06-2.06.94zm-11 1L8.5 8.5l.94-2.06 2.06-.94-2.06-.94L8.5 2.5l-.94 2.06-2.06.94zm10 10l.94 2.06.94-2.06 2.06-.94-2.06-.94-.94-2.06-.94 2.06-2.06.94z\"/><path d=\"M17.41 7.96l-1.37-1.37c-.4-.4-.92-.59-1.43-.59-.52 0-1.04.2-1.43.59L10.3 9.45l-7.72 7.72c-.78.78-.78 2.05 0 2.83L4 21.41c.39.39.9.59 1.41.59.51 0 1.02-.2 1.41-.59l7.78-7.78 2.81-2.81c.8-.78.8-2.07 0-2.86zM5.41 20L4 18.59l7.72-7.72 1.47 1.35L5.41 20z\"/>\n",
              "  </svg>\n",
              "      </button>\n",
              "      \n",
              "  <style>\n",
              "    .colab-df-container {\n",
              "      display:flex;\n",
              "      flex-wrap:wrap;\n",
              "      gap: 12px;\n",
              "    }\n",
              "\n",
              "    .colab-df-convert {\n",
              "      background-color: #E8F0FE;\n",
              "      border: none;\n",
              "      border-radius: 50%;\n",
              "      cursor: pointer;\n",
              "      display: none;\n",
              "      fill: #1967D2;\n",
              "      height: 32px;\n",
              "      padding: 0 0 0 0;\n",
              "      width: 32px;\n",
              "    }\n",
              "\n",
              "    .colab-df-convert:hover {\n",
              "      background-color: #E2EBFA;\n",
              "      box-shadow: 0px 1px 2px rgba(60, 64, 67, 0.3), 0px 1px 3px 1px rgba(60, 64, 67, 0.15);\n",
              "      fill: #174EA6;\n",
              "    }\n",
              "\n",
              "    [theme=dark] .colab-df-convert {\n",
              "      background-color: #3B4455;\n",
              "      fill: #D2E3FC;\n",
              "    }\n",
              "\n",
              "    [theme=dark] .colab-df-convert:hover {\n",
              "      background-color: #434B5C;\n",
              "      box-shadow: 0px 1px 3px 1px rgba(0, 0, 0, 0.15);\n",
              "      filter: drop-shadow(0px 1px 2px rgba(0, 0, 0, 0.3));\n",
              "      fill: #FFFFFF;\n",
              "    }\n",
              "  </style>\n",
              "\n",
              "      <script>\n",
              "        const buttonEl =\n",
              "          document.querySelector('#df-65930245-771e-4588-b18c-2a7f79d7ec50 button.colab-df-convert');\n",
              "        buttonEl.style.display =\n",
              "          google.colab.kernel.accessAllowed ? 'block' : 'none';\n",
              "\n",
              "        async function convertToInteractive(key) {\n",
              "          const element = document.querySelector('#df-65930245-771e-4588-b18c-2a7f79d7ec50');\n",
              "          const dataTable =\n",
              "            await google.colab.kernel.invokeFunction('convertToInteractive',\n",
              "                                                     [key], {});\n",
              "          if (!dataTable) return;\n",
              "\n",
              "          const docLinkHtml = 'Like what you see? Visit the ' +\n",
              "            '<a target=\"_blank\" href=https://colab.research.google.com/notebooks/data_table.ipynb>data table notebook</a>'\n",
              "            + ' to learn more about interactive tables.';\n",
              "          element.innerHTML = '';\n",
              "          dataTable['output_type'] = 'display_data';\n",
              "          await google.colab.output.renderOutput(dataTable, element);\n",
              "          const docLink = document.createElement('div');\n",
              "          docLink.innerHTML = docLinkHtml;\n",
              "          element.appendChild(docLink);\n",
              "        }\n",
              "      </script>\n",
              "    </div>\n",
              "  </div>\n",
              "  "
            ]
          },
          "metadata": {},
          "execution_count": 18
        }
      ],
      "source": [
        "# Add a new column to the DataFrame with the predicted clusters\n",
        "market_data_df_3['segment_3'] = market_data_pred\n",
        "\n",
        "# Display sample data\n",
        "market_data_df_3.sample()"
      ]
    },
    {
      "cell_type": "code",
      "execution_count": 19,
      "metadata": {
        "id": "YVSmCUo4b8HE",
        "colab": {
          "base_uri": "https://localhost:8080/",
          "height": 455
        },
        "outputId": "5184f996-0abc-442b-af30-78a45fe83878"
      },
      "outputs": [
        {
          "output_type": "display_data",
          "data": {
            "text/plain": [
              "<Figure size 640x480 with 2 Axes>"
            ],
            "image/png": "[encoded data removed]"
          },
          "metadata": {}
        }
      ],
      "source": [
        "# Create a scatter plot using hvPlot by setting\n",
        "# `x=\"price_change_percentage_24h\"` and `y=\"price_change_percentage_7d\"`.\n",
        "# Color the graph points with the labels found using K-Means and\n",
        "# add the crypto name in the `hover_cols` parameter to identify\n",
        "# the cryptocurrency represented by each data point.\n",
        "market_data_df_3.plot.scatter('price_change_percentage_24h','price_change_percentage_7d',\n",
        "                              c='segment_3', colormap='viridis')\n",
        "plt.show()"
      ]
    },
    {
      "cell_type": "code",
      "source": [
        "# cluster_plot=market_data_df_3.hvplot.scatter(x='price_change_percentage_24h', y='price_change_percentage_7d', by='segment_3',\n",
        "#                                 hover_cols=['coin_id'], marker=['hex', 'square', 'cross','inverted_triangle'],\n",
        "#                                 title='Crypto Currecy Custers')\n",
        "# cluster_plot"
      ],
      "metadata": {
        "id": "JUx5i3OmqVkM"
      },
      "execution_count": 20,
      "outputs": []
    },
    {
      "cell_type": "markdown",
      "metadata": {
        "id": "xCSX4Ud-b8HE"
      },
      "source": [
        "---"
      ]
    },
    {
      "cell_type": "markdown",
      "metadata": {
        "id": "X5pIOP-sb8HE"
      },
      "source": [
        "### Optimize Clusters with Principal Component Analysis."
      ]
    },
    {
      "cell_type": "code",
      "execution_count": 21,
      "metadata": {
        "id": "15Tm0y_Zb8HE"
      },
      "outputs": [],
      "source": [
        "# Create a PCA model instance and set `n_components=3`.\n",
        "pca = PCA(n_components=3)"
      ]
    },
    {
      "cell_type": "code",
      "execution_count": 22,
      "metadata": {
        "id": "TaYhJ-Yib8HE",
        "colab": {
          "base_uri": "https://localhost:8080/"
        },
        "outputId": "5270ae55-0b1a-42fd-f09d-9c1788043186"
      },
      "outputs": [
        {
          "output_type": "execute_result",
          "data": {
            "text/plain": [
              "array([[-0.60066733,  0.84276006,  0.46159457],\n",
              "       [-0.45826071,  0.45846566,  0.95287678],\n",
              "       [-0.43306981, -0.16812638, -0.64175193],\n",
              "       [-0.47183495, -0.22266008, -0.47905316],\n",
              "       [-1.15779997,  2.04120919,  1.85971527]])"
            ]
          },
          "metadata": {},
          "execution_count": 22
        }
      ],
      "source": [
        "# Use the PCA model with `fit_transform` to reduce to\n",
        "# three principal components.\n",
        "\n",
        "crypto_info_pca=pca.fit_transform(df_market_data_scaled)\n",
        "\n",
        "\n",
        "# View the first five rows of the DataFrame.\n",
        "crypto_info_pca[0:5, ]"
      ]
    },
    {
      "cell_type": "code",
      "execution_count": 23,
      "metadata": {
        "id": "MBGt5TWpb8HE",
        "colab": {
          "base_uri": "https://localhost:8080/"
        },
        "outputId": "e0fcded7-60ec-4408-e604-ff926ac851ad"
      },
      "outputs": [
        {
          "output_type": "execute_result",
          "data": {
            "text/plain": [
              "array([0.3719856 , 0.34700813, 0.17603793])"
            ]
          },
          "metadata": {},
          "execution_count": 23
        }
      ],
      "source": [
        "# Retrieve the explained variance to determine how much information\n",
        "# can be attributed to each principal component.\n",
        "pca.explained_variance_ratio_"
      ]
    },
    {
      "cell_type": "markdown",
      "metadata": {
        "id": "NUbueFq6b8HE"
      },
      "source": [
        "#### Answer the following question:\n",
        "\n",
        "**Question:** What is the total explained variance of the three principal components?\n",
        "\n",
        "**Answer:** the first 2 components as they have a highest value meaning they have more data meaning more importat information to be use"
      ]
    },
    {
      "cell_type": "code",
      "execution_count": 24,
      "metadata": {
        "id": "OtOdeyDkb8HE",
        "colab": {
          "base_uri": "https://localhost:8080/",
          "height": 394
        },
        "outputId": "0ddfc445-070e-46d2-fc59-113095ecb817"
      },
      "outputs": [
        {
          "output_type": "execute_result",
          "data": {
            "text/plain": [
              "                           PC1       PC2       PC3\n",
              "coin_id                                           \n",
              "ontology             -0.632355 -2.108117 -0.652227\n",
              "litecoin             -0.649468  0.432165  0.600303\n",
              "vechain              -0.556315 -1.938209 -1.261776\n",
              "binance-usd          -0.450211 -0.151019 -0.647401\n",
              "celsius-degree-token  4.792395  6.767679 -1.986985\n",
              "chainlink            -0.450711  0.517699  2.846143\n",
              "eos                  -0.693425 -0.473815 -0.527597\n",
              "huobi-token          -0.407483 -0.212507 -0.351426\n",
              "tezos                -0.796176 -0.494409  1.082812\n",
              "havven                0.865762 -2.261882  0.275583"
            ],
            "text/html": [
              "\n",
              "  <div id=\"df-968e0e5e-33a4-4169-a3e3-56bb261434bf\">\n",
              "    <div class=\"colab-df-container\">\n",
              "      <div>\n",
              "<style scoped>\n",
              "    .dataframe tbody tr th:only-of-type {\n",
              "        vertical-align: middle;\n",
              "    }\n",
              "\n",
              "    .dataframe tbody tr th {\n",
              "        vertical-align: top;\n",
              "    }\n",
              "\n",
              "    .dataframe thead th {\n",
              "        text-align: right;\n",
              "    }\n",
              "</style>\n",
              "<table border=\"1\" class=\"dataframe\">\n",
              "  <thead>\n",
              "    <tr style=\"text-align: right;\">\n",
              "      <th></th>\n",
              "      <th>PC1</th>\n",
              "      <th>PC2</th>\n",
              "      <th>PC3</th>\n",
              "    </tr>\n",
              "    <tr>\n",
              "      <th>coin_id</th>\n",
              "      <th></th>\n",
              "      <th></th>\n",
              "      <th></th>\n",
              "    </tr>\n",
              "  </thead>\n",
              "  <tbody>\n",
              "    <tr>\n",
              "      <th>ontology</th>\n",
              "      <td>-0.632355</td>\n",
              "      <td>-2.108117</td>\n",
              "      <td>-0.652227</td>\n",
              "    </tr>\n",
              "    <tr>\n",
              "      <th>litecoin</th>\n",
              "      <td>-0.649468</td>\n",
              "      <td>0.432165</td>\n",
              "      <td>0.600303</td>\n",
              "    </tr>\n",
              "    <tr>\n",
              "      <th>vechain</th>\n",
              "      <td>-0.556315</td>\n",
              "      <td>-1.938209</td>\n",
              "      <td>-1.261776</td>\n",
              "    </tr>\n",
              "    <tr>\n",
              "      <th>binance-usd</th>\n",
              "      <td>-0.450211</td>\n",
              "      <td>-0.151019</td>\n",
              "      <td>-0.647401</td>\n",
              "    </tr>\n",
              "    <tr>\n",
              "      <th>celsius-degree-token</th>\n",
              "      <td>4.792395</td>\n",
              "      <td>6.767679</td>\n",
              "      <td>-1.986985</td>\n",
              "    </tr>\n",
              "    <tr>\n",
              "      <th>chainlink</th>\n",
              "      <td>-0.450711</td>\n",
              "      <td>0.517699</td>\n",
              "      <td>2.846143</td>\n",
              "    </tr>\n",
              "    <tr>\n",
              "      <th>eos</th>\n",
              "      <td>-0.693425</td>\n",
              "      <td>-0.473815</td>\n",
              "      <td>-0.527597</td>\n",
              "    </tr>\n",
              "    <tr>\n",
              "      <th>huobi-token</th>\n",
              "      <td>-0.407483</td>\n",
              "      <td>-0.212507</td>\n",
              "      <td>-0.351426</td>\n",
              "    </tr>\n",
              "    <tr>\n",
              "      <th>tezos</th>\n",
              "      <td>-0.796176</td>\n",
              "      <td>-0.494409</td>\n",
              "      <td>1.082812</td>\n",
              "    </tr>\n",
              "    <tr>\n",
              "      <th>havven</th>\n",
              "      <td>0.865762</td>\n",
              "      <td>-2.261882</td>\n",
              "      <td>0.275583</td>\n",
              "    </tr>\n",
              "  </tbody>\n",
              "</table>\n",
              "</div>\n",
              "      <button class=\"colab-df-convert\" onclick=\"convertToInteractive('df-968e0e5e-33a4-4169-a3e3-56bb261434bf')\"\n",
              "              title=\"Convert this dataframe to an interactive table.\"\n",
              "              style=\"display:none;\">\n",
              "        \n",
              "  <svg xmlns=\"http://www.w3.org/2000/svg\" height=\"24px\"viewBox=\"0 0 24 24\"\n",
              "       width=\"24px\">\n",
              "    <path d=\"M0 0h24v24H0V0z\" fill=\"none\"/>\n",
              "    <path d=\"M18.56 5.44l.94 2.06.94-2.06 2.06-.94-2.06-.94-.94-2.06-.94 2.06-2.06.94zm-11 1L8.5 8.5l.94-2.06 2.06-.94-2.06-.94L8.5 2.5l-.94 2.06-2.06.94zm10 10l.94 2.06.94-2.06 2.06-.94-2.06-.94-.94-2.06-.94 2.06-2.06.94z\"/><path d=\"M17.41 7.96l-1.37-1.37c-.4-.4-.92-.59-1.43-.59-.52 0-1.04.2-1.43.59L10.3 9.45l-7.72 7.72c-.78.78-.78 2.05 0 2.83L4 21.41c.39.39.9.59 1.41.59.51 0 1.02-.2 1.41-.59l7.78-7.78 2.81-2.81c.8-.78.8-2.07 0-2.86zM5.41 20L4 18.59l7.72-7.72 1.47 1.35L5.41 20z\"/>\n",
              "  </svg>\n",
              "      </button>\n",
              "      \n",
              "  <style>\n",
              "    .colab-df-container {\n",
              "      display:flex;\n",
              "      flex-wrap:wrap;\n",
              "      gap: 12px;\n",
              "    }\n",
              "\n",
              "    .colab-df-convert {\n",
              "      background-color: #E8F0FE;\n",
              "      border: none;\n",
              "      border-radius: 50%;\n",
              "      cursor: pointer;\n",
              "      display: none;\n",
              "      fill: #1967D2;\n",
              "      height: 32px;\n",
              "      padding: 0 0 0 0;\n",
              "      width: 32px;\n",
              "    }\n",
              "\n",
              "    .colab-df-convert:hover {\n",
              "      background-color: #E2EBFA;\n",
              "      box-shadow: 0px 1px 2px rgba(60, 64, 67, 0.3), 0px 1px 3px 1px rgba(60, 64, 67, 0.15);\n",
              "      fill: #174EA6;\n",
              "    }\n",
              "\n",
              "    [theme=dark] .colab-df-convert {\n",
              "      background-color: #3B4455;\n",
              "      fill: #D2E3FC;\n",
              "    }\n",
              "\n",
              "    [theme=dark] .colab-df-convert:hover {\n",
              "      background-color: #434B5C;\n",
              "      box-shadow: 0px 1px 3px 1px rgba(0, 0, 0, 0.15);\n",
              "      filter: drop-shadow(0px 1px 2px rgba(0, 0, 0, 0.3));\n",
              "      fill: #FFFFFF;\n",
              "    }\n",
              "  </style>\n",
              "\n",
              "      <script>\n",
              "        const buttonEl =\n",
              "          document.querySelector('#df-968e0e5e-33a4-4169-a3e3-56bb261434bf button.colab-df-convert');\n",
              "        buttonEl.style.display =\n",
              "          google.colab.kernel.accessAllowed ? 'block' : 'none';\n",
              "\n",
              "        async function convertToInteractive(key) {\n",
              "          const element = document.querySelector('#df-968e0e5e-33a4-4169-a3e3-56bb261434bf');\n",
              "          const dataTable =\n",
              "            await google.colab.kernel.invokeFunction('convertToInteractive',\n",
              "                                                     [key], {});\n",
              "          if (!dataTable) return;\n",
              "\n",
              "          const docLinkHtml = 'Like what you see? Visit the ' +\n",
              "            '<a target=\"_blank\" href=https://colab.research.google.com/notebooks/data_table.ipynb>data table notebook</a>'\n",
              "            + ' to learn more about interactive tables.';\n",
              "          element.innerHTML = '';\n",
              "          dataTable['output_type'] = 'display_data';\n",
              "          await google.colab.output.renderOutput(dataTable, element);\n",
              "          const docLink = document.createElement('div');\n",
              "          docLink.innerHTML = docLinkHtml;\n",
              "          element.appendChild(docLink);\n",
              "        }\n",
              "      </script>\n",
              "    </div>\n",
              "  </div>\n",
              "  "
            ]
          },
          "metadata": {},
          "execution_count": 24
        }
      ],
      "source": [
        "# Create a new DataFrame with the PCA data.\n",
        "crypto_df = pd.DataFrame(crypto_info_pca, columns=['PC1','PC2','PC3'])\n",
        "# Creating a DataFrame with the PCA data\n",
        "\n",
        "# Copy the crypto names from the original data\n",
        "crypto_df['coin_id']= df_market_data.index\n",
        "\n",
        "# Set the coinid column as index\n",
        "crypto_df=crypto_df.set_index('coin_id')\n",
        "\n",
        "# Display sample data\n",
        "crypto_df.sample(10)"
      ]
    },
    {
      "cell_type": "markdown",
      "metadata": {
        "id": "pzqqtcwjb8HE"
      },
      "source": [
        "---"
      ]
    },
    {
      "cell_type": "markdown",
      "metadata": {
        "id": "TmECClOAb8HF"
      },
      "source": [
        "### Find the Best Value for k Using the PCA Data"
      ]
    },
    {
      "cell_type": "code",
      "execution_count": 25,
      "metadata": {
        "id": "5HkAtrGXb8HF"
      },
      "outputs": [],
      "source": [
        "# Create a list with the number of k-values from 1 to 11\n",
        "k=list(range(1,11))"
      ]
    },
    {
      "cell_type": "code",
      "execution_count": 26,
      "metadata": {
        "id": "wen58S55b8HF",
        "colab": {
          "base_uri": "https://localhost:8080/"
        },
        "outputId": "5e5271e9-fe46-403c-840a-4e246d50aa3d"
      },
      "outputs": [
        {
          "output_type": "stream",
          "name": "stderr",
          "text": [
            "/usr/local/lib/python3.10/dist-packages/sklearn/cluster/_kmeans.py:870: FutureWarning: The default value of `n_init` will change from 10 to 'auto' in 1.4. Set the value of `n_init` explicitly to suppress the warning\n",
            "  warnings.warn(\n",
            "/usr/local/lib/python3.10/dist-packages/sklearn/cluster/_kmeans.py:870: FutureWarning: The default value of `n_init` will change from 10 to 'auto' in 1.4. Set the value of `n_init` explicitly to suppress the warning\n",
            "  warnings.warn(\n",
            "/usr/local/lib/python3.10/dist-packages/sklearn/cluster/_kmeans.py:870: FutureWarning: The default value of `n_init` will change from 10 to 'auto' in 1.4. Set the value of `n_init` explicitly to suppress the warning\n",
            "  warnings.warn(\n",
            "/usr/local/lib/python3.10/dist-packages/sklearn/cluster/_kmeans.py:870: FutureWarning: The default value of `n_init` will change from 10 to 'auto' in 1.4. Set the value of `n_init` explicitly to suppress the warning\n",
            "  warnings.warn(\n",
            "/usr/local/lib/python3.10/dist-packages/sklearn/cluster/_kmeans.py:870: FutureWarning: The default value of `n_init` will change from 10 to 'auto' in 1.4. Set the value of `n_init` explicitly to suppress the warning\n",
            "  warnings.warn(\n",
            "/usr/local/lib/python3.10/dist-packages/sklearn/cluster/_kmeans.py:870: FutureWarning: The default value of `n_init` will change from 10 to 'auto' in 1.4. Set the value of `n_init` explicitly to suppress the warning\n",
            "  warnings.warn(\n",
            "/usr/local/lib/python3.10/dist-packages/sklearn/cluster/_kmeans.py:870: FutureWarning: The default value of `n_init` will change from 10 to 'auto' in 1.4. Set the value of `n_init` explicitly to suppress the warning\n",
            "  warnings.warn(\n",
            "/usr/local/lib/python3.10/dist-packages/sklearn/cluster/_kmeans.py:870: FutureWarning: The default value of `n_init` will change from 10 to 'auto' in 1.4. Set the value of `n_init` explicitly to suppress the warning\n",
            "  warnings.warn(\n",
            "/usr/local/lib/python3.10/dist-packages/sklearn/cluster/_kmeans.py:870: FutureWarning: The default value of `n_init` will change from 10 to 'auto' in 1.4. Set the value of `n_init` explicitly to suppress the warning\n",
            "  warnings.warn(\n",
            "/usr/local/lib/python3.10/dist-packages/sklearn/cluster/_kmeans.py:870: FutureWarning: The default value of `n_init` will change from 10 to 'auto' in 1.4. Set the value of `n_init` explicitly to suppress the warning\n",
            "  warnings.warn(\n"
          ]
        }
      ],
      "source": [
        "# Create an empty list to store the inertia values\n",
        "inertias=[]\n",
        "\n",
        "# Create a for loop to compute the inertia with each possible value of k\n",
        "# Inside the loop:\n",
        "# 1. Create a KMeans model using the loop counter for the n_clusters\n",
        "# 2. Fit the model to the data using `df_market_data_pca`\n",
        "# 3. Append the model.inertia_ to the inertia list\n",
        "for i in k:\n",
        "  model= KMeans(n_clusters=i,random_state=0)\n",
        "  model.fit(df_market_data_scaled)\n",
        "  inertias.append(model.inertia_)"
      ]
    },
    {
      "cell_type": "code",
      "execution_count": 27,
      "metadata": {
        "id": "OBq8oDXJb8HF",
        "colab": {
          "base_uri": "https://localhost:8080/",
          "height": 206
        },
        "outputId": "9e212bfd-b413-4ffc-dc4a-fcde9d3f802f"
      },
      "outputs": [
        {
          "output_type": "execute_result",
          "data": {
            "text/plain": [
              "   k     Inertia\n",
              "0  1  287.000000\n",
              "1  2  195.820218\n",
              "2  3  123.190482\n",
              "3  4   79.022435\n",
              "4  5   65.302379"
            ],
            "text/html": [
              "\n",
              "  <div id=\"df-33965caa-25de-4ff6-9929-6a3dbe2fdd49\">\n",
              "    <div class=\"colab-df-container\">\n",
              "      <div>\n",
              "<style scoped>\n",
              "    .dataframe tbody tr th:only-of-type {\n",
              "        vertical-align: middle;\n",
              "    }\n",
              "\n",
              "    .dataframe tbody tr th {\n",
              "        vertical-align: top;\n",
              "    }\n",
              "\n",
              "    .dataframe thead th {\n",
              "        text-align: right;\n",
              "    }\n",
              "</style>\n",
              "<table border=\"1\" class=\"dataframe\">\n",
              "  <thead>\n",
              "    <tr style=\"text-align: right;\">\n",
              "      <th></th>\n",
              "      <th>k</th>\n",
              "      <th>Inertia</th>\n",
              "    </tr>\n",
              "  </thead>\n",
              "  <tbody>\n",
              "    <tr>\n",
              "      <th>0</th>\n",
              "      <td>1</td>\n",
              "      <td>287.000000</td>\n",
              "    </tr>\n",
              "    <tr>\n",
              "      <th>1</th>\n",
              "      <td>2</td>\n",
              "      <td>195.820218</td>\n",
              "    </tr>\n",
              "    <tr>\n",
              "      <th>2</th>\n",
              "      <td>3</td>\n",
              "      <td>123.190482</td>\n",
              "    </tr>\n",
              "    <tr>\n",
              "      <th>3</th>\n",
              "      <td>4</td>\n",
              "      <td>79.022435</td>\n",
              "    </tr>\n",
              "    <tr>\n",
              "      <th>4</th>\n",
              "      <td>5</td>\n",
              "      <td>65.302379</td>\n",
              "    </tr>\n",
              "  </tbody>\n",
              "</table>\n",
              "</div>\n",
              "      <button class=\"colab-df-convert\" onclick=\"convertToInteractive('df-33965caa-25de-4ff6-9929-6a3dbe2fdd49')\"\n",
              "              title=\"Convert this dataframe to an interactive table.\"\n",
              "              style=\"display:none;\">\n",
              "        \n",
              "  <svg xmlns=\"http://www.w3.org/2000/svg\" height=\"24px\"viewBox=\"0 0 24 24\"\n",
              "       width=\"24px\">\n",
              "    <path d=\"M0 0h24v24H0V0z\" fill=\"none\"/>\n",
              "    <path d=\"M18.56 5.44l.94 2.06.94-2.06 2.06-.94-2.06-.94-.94-2.06-.94 2.06-2.06.94zm-11 1L8.5 8.5l.94-2.06 2.06-.94-2.06-.94L8.5 2.5l-.94 2.06-2.06.94zm10 10l.94 2.06.94-2.06 2.06-.94-2.06-.94-.94-2.06-.94 2.06-2.06.94z\"/><path d=\"M17.41 7.96l-1.37-1.37c-.4-.4-.92-.59-1.43-.59-.52 0-1.04.2-1.43.59L10.3 9.45l-7.72 7.72c-.78.78-.78 2.05 0 2.83L4 21.41c.39.39.9.59 1.41.59.51 0 1.02-.2 1.41-.59l7.78-7.78 2.81-2.81c.8-.78.8-2.07 0-2.86zM5.41 20L4 18.59l7.72-7.72 1.47 1.35L5.41 20z\"/>\n",
              "  </svg>\n",
              "      </button>\n",
              "      \n",
              "  <style>\n",
              "    .colab-df-container {\n",
              "      display:flex;\n",
              "      flex-wrap:wrap;\n",
              "      gap: 12px;\n",
              "    }\n",
              "\n",
              "    .colab-df-convert {\n",
              "      background-color: #E8F0FE;\n",
              "      border: none;\n",
              "      border-radius: 50%;\n",
              "      cursor: pointer;\n",
              "      display: none;\n",
              "      fill: #1967D2;\n",
              "      height: 32px;\n",
              "      padding: 0 0 0 0;\n",
              "      width: 32px;\n",
              "    }\n",
              "\n",
              "    .colab-df-convert:hover {\n",
              "      background-color: #E2EBFA;\n",
              "      box-shadow: 0px 1px 2px rgba(60, 64, 67, 0.3), 0px 1px 3px 1px rgba(60, 64, 67, 0.15);\n",
              "      fill: #174EA6;\n",
              "    }\n",
              "\n",
              "    [theme=dark] .colab-df-convert {\n",
              "      background-color: #3B4455;\n",
              "      fill: #D2E3FC;\n",
              "    }\n",
              "\n",
              "    [theme=dark] .colab-df-convert:hover {\n",
              "      background-color: #434B5C;\n",
              "      box-shadow: 0px 1px 3px 1px rgba(0, 0, 0, 0.15);\n",
              "      filter: drop-shadow(0px 1px 2px rgba(0, 0, 0, 0.3));\n",
              "      fill: #FFFFFF;\n",
              "    }\n",
              "  </style>\n",
              "\n",
              "      <script>\n",
              "        const buttonEl =\n",
              "          document.querySelector('#df-33965caa-25de-4ff6-9929-6a3dbe2fdd49 button.colab-df-convert');\n",
              "        buttonEl.style.display =\n",
              "          google.colab.kernel.accessAllowed ? 'block' : 'none';\n",
              "\n",
              "        async function convertToInteractive(key) {\n",
              "          const element = document.querySelector('#df-33965caa-25de-4ff6-9929-6a3dbe2fdd49');\n",
              "          const dataTable =\n",
              "            await google.colab.kernel.invokeFunction('convertToInteractive',\n",
              "                                                     [key], {});\n",
              "          if (!dataTable) return;\n",
              "\n",
              "          const docLinkHtml = 'Like what you see? Visit the ' +\n",
              "            '<a target=\"_blank\" href=https://colab.research.google.com/notebooks/data_table.ipynb>data table notebook</a>'\n",
              "            + ' to learn more about interactive tables.';\n",
              "          element.innerHTML = '';\n",
              "          dataTable['output_type'] = 'display_data';\n",
              "          await google.colab.output.renderOutput(dataTable, element);\n",
              "          const docLink = document.createElement('div');\n",
              "          docLink.innerHTML = docLinkHtml;\n",
              "          element.appendChild(docLink);\n",
              "        }\n",
              "      </script>\n",
              "    </div>\n",
              "  </div>\n",
              "  "
            ]
          },
          "metadata": {},
          "execution_count": 27
        }
      ],
      "source": [
        "# Create a dictionary with the data to plot the Elbow curve\n",
        "elbow_data1={'k': k,'Inertia':inertias}\n",
        "# Create a DataFrame with the data to plot the Elbow curve\n",
        "elbow1_df = pd.DataFrame(elbow_data1)\n",
        "elbow1_df.head()"
      ]
    },
    {
      "cell_type": "code",
      "execution_count": 28,
      "metadata": {
        "id": "qgoNrBacb8HF",
        "colab": {
          "base_uri": "https://localhost:8080/",
          "height": 467
        },
        "outputId": "e0dc28e4-89fd-4946-fc39-ee757601c659"
      },
      "outputs": [
        {
          "output_type": "execute_result",
          "data": {
            "text/plain": [
              "<Axes: xlabel='k'>"
            ]
          },
          "metadata": {},
          "execution_count": 28
        },
        {
          "output_type": "display_data",
          "data": {
            "text/plain": [
              "<Figure size 640x480 with 1 Axes>"
            ],
            "image/png": "[encoded data removed]"
          },
          "metadata": {}
        }
      ],
      "source": [
        "# Plot a line chart with all the inertia values computed with\n",
        "# the different values of k to visually identify the optimal value for k.\n",
        "elbow1_df.plot('k','Inertia')"
      ]
    },
    {
      "cell_type": "markdown",
      "metadata": {
        "id": "pyDrmX7hb8HF"
      },
      "source": [
        "#### Answer the following questions:\n",
        "\n",
        "* **Question:** What is the best value for `k` when using the PCA data?\n",
        "\n",
        "  * **Answer:** 4\n",
        "\n",
        "\n",
        "* **Question:** Does it differ from the best k value found using the original data?\n",
        "\n",
        "  * **Answer:** It is diferent is more exact here we can see clearly that is 4, in the original one was between 3-4"
      ]
    },
    {
      "cell_type": "markdown",
      "metadata": {
        "id": "agSvdulwb8HF"
      },
      "source": [
        "### Cluster Cryptocurrencies with K-means Using the PCA Data"
      ]
    },
    {
      "cell_type": "code",
      "execution_count": 29,
      "metadata": {
        "id": "vleXYVKmb8HF"
      },
      "outputs": [],
      "source": [
        "# Initialize the K-Means model using the best value for k\n",
        "model = KMeans(n_clusters=4)"
      ]
    },
    {
      "cell_type": "code",
      "execution_count": 30,
      "metadata": {
        "id": "mnjRuAHQb8HG",
        "colab": {
          "base_uri": "https://localhost:8080/",
          "height": 130
        },
        "outputId": "908bd0f3-e3b0-4bcd-a7c5-2b7009ec6fff"
      },
      "outputs": [
        {
          "output_type": "stream",
          "name": "stderr",
          "text": [
            "/usr/local/lib/python3.10/dist-packages/sklearn/cluster/_kmeans.py:870: FutureWarning: The default value of `n_init` will change from 10 to 'auto' in 1.4. Set the value of `n_init` explicitly to suppress the warning\n",
            "  warnings.warn(\n"
          ]
        },
        {
          "output_type": "execute_result",
          "data": {
            "text/plain": [
              "KMeans(n_clusters=4)"
            ],
            "text/html": [
              "<style>#sk-container-id-2 {color: black;background-color: white;}#sk-container-id-2 pre{padding: 0;}#sk-container-id-2 div.sk-toggleable {background-color: white;}#sk-container-id-2 label.sk-toggleable__label {cursor: pointer;display: block;width: 100%;margin-bottom: 0;padding: 0.3em;box-sizing: border-box;text-align: center;}#sk-container-id-2 label.sk-toggleable__label-arrow:before {content: \"▸\";float: left;margin-right: 0.25em;color: #696969;}#sk-container-id-2 label.sk-toggleable__label-arrow:hover:before {color: black;}#sk-container-id-2 div.sk-estimator:hover label.sk-toggleable__label-arrow:before {color: black;}#sk-container-id-2 div.sk-toggleable__content {max-height: 0;max-width: 0;overflow: hidden;text-align: left;background-color: #f0f8ff;}#sk-container-id-2 div.sk-toggleable__content pre {margin: 0.2em;color: black;border-radius: 0.25em;background-color: #f0f8ff;}#sk-container-id-2 input.sk-toggleable__control:checked~div.sk-toggleable__content {max-height: 200px;max-width: 100%;overflow: auto;}#sk-container-id-2 input.sk-toggleable__control:checked~label.sk-toggleable__label-arrow:before {content: \"▾\";}#sk-container-id-2 div.sk-estimator input.sk-toggleable__control:checked~label.sk-toggleable__label {background-color: #d4ebff;}#sk-container-id-2 div.sk-label input.sk-toggleable__control:checked~label.sk-toggleable__label {background-color: #d4ebff;}#sk-container-id-2 input.sk-hidden--visually {border: 0;clip: rect(1px 1px 1px 1px);clip: rect(1px, 1px, 1px, 1px);height: 1px;margin: -1px;overflow: hidden;padding: 0;position: absolute;width: 1px;}#sk-container-id-2 div.sk-estimator {font-family: monospace;background-color: #f0f8ff;border: 1px dotted black;border-radius: 0.25em;box-sizing: border-box;margin-bottom: 0.5em;}#sk-container-id-2 div.sk-estimator:hover {background-color: #d4ebff;}#sk-container-id-2 div.sk-parallel-item::after {content: \"\";width: 100%;border-bottom: 1px solid gray;flex-grow: 1;}#sk-container-id-2 div.sk-label:hover label.sk-toggleable__label {background-color: #d4ebff;}#sk-container-id-2 div.sk-serial::before {content: \"\";position: absolute;border-left: 1px solid gray;box-sizing: border-box;top: 0;bottom: 0;left: 50%;z-index: 0;}#sk-container-id-2 div.sk-serial {display: flex;flex-direction: column;align-items: center;background-color: white;padding-right: 0.2em;padding-left: 0.2em;position: relative;}#sk-container-id-2 div.sk-item {position: relative;z-index: 1;}#sk-container-id-2 div.sk-parallel {display: flex;align-items: stretch;justify-content: center;background-color: white;position: relative;}#sk-container-id-2 div.sk-item::before, #sk-container-id-2 div.sk-parallel-item::before {content: \"\";position: absolute;border-left: 1px solid gray;box-sizing: border-box;top: 0;bottom: 0;left: 50%;z-index: -1;}#sk-container-id-2 div.sk-parallel-item {display: flex;flex-direction: column;z-index: 1;position: relative;background-color: white;}#sk-container-id-2 div.sk-parallel-item:first-child::after {align-self: flex-end;width: 50%;}#sk-container-id-2 div.sk-parallel-item:last-child::after {align-self: flex-start;width: 50%;}#sk-container-id-2 div.sk-parallel-item:only-child::after {width: 0;}#sk-container-id-2 div.sk-dashed-wrapped {border: 1px dashed gray;margin: 0 0.4em 0.5em 0.4em;box-sizing: border-box;padding-bottom: 0.4em;background-color: white;}#sk-container-id-2 div.sk-label label {font-family: monospace;font-weight: bold;display: inline-block;line-height: 1.2em;}#sk-container-id-2 div.sk-label-container {text-align: center;}#sk-container-id-2 div.sk-container {/* jupyter's `normalize.less` sets `[hidden] { display: none; }` but bootstrap.min.css set `[hidden] { display: none !important; }` so we also need the `!important` here to be able to override the default hidden behavior on the sphinx rendered scikit-learn.org. See: https://github.com/scikit-learn/scikit-learn/issues/21755 */display: inline-block !important;position: relative;}#sk-container-id-2 div.sk-text-repr-fallback {display: none;}</style><div id=\"sk-container-id-2\" class=\"sk-top-container\"><div class=\"sk-text-repr-fallback\"><pre>KMeans(n_clusters=4)</pre><b>In a Jupyter environment, please rerun this cell to show the HTML representation or trust the notebook. <br />On GitHub, the HTML representation is unable to render, please try loading this page with nbviewer.org.</b></div><div class=\"sk-container\" hidden><div class=\"sk-item\"><div class=\"sk-estimator sk-toggleable\"><input class=\"sk-toggleable__control sk-hidden--visually\" id=\"sk-estimator-id-2\" type=\"checkbox\" checked><label for=\"sk-estimator-id-2\" class=\"sk-toggleable__label sk-toggleable__label-arrow\">KMeans</label><div class=\"sk-toggleable__content\"><pre>KMeans(n_clusters=4)</pre></div></div></div></div></div>"
            ]
          },
          "metadata": {},
          "execution_count": 30
        }
      ],
      "source": [
        "# Fit the K-Means model using the PCA data\n",
        "model.fit(crypto_df)"
      ]
    },
    {
      "cell_type": "code",
      "execution_count": 31,
      "metadata": {
        "id": "MoyRPDlyb8HG",
        "colab": {
          "base_uri": "https://localhost:8080/"
        },
        "outputId": "7b06b092-fd50-4359-9204-4ea0d9926f36"
      },
      "outputs": [
        {
          "output_type": "execute_result",
          "data": {
            "text/plain": [
              "array([0, 0, 1, 1, 0, 0, 0, 0, 0, 1, 1, 1, 1, 0, 1, 0, 1, 1, 0, 1, 1, 0,\n",
              "       1, 1, 1, 1, 1, 1, 0, 1, 1, 1, 2, 0, 1, 1, 3, 1, 1, 1, 1],\n",
              "      dtype=int32)"
            ]
          },
          "metadata": {},
          "execution_count": 31
        }
      ],
      "source": [
        "# Predict the clusters to group the cryptocurrencies using the PCA data\n",
        "crypto_pred = model.predict(crypto_df)\n",
        "# Print the resulting array of cluster values.\n",
        "crypto_pred"
      ]
    },
    {
      "cell_type": "code",
      "execution_count": 38,
      "metadata": {
        "id": "kIvNl64Vb8HG",
        "colab": {
          "base_uri": "https://localhost:8080/",
          "height": 394
        },
        "outputId": "4a8eb70d-d44d-431d-b5ad-52f5d9b4f05b"
      },
      "outputs": [
        {
          "output_type": "execute_result",
          "data": {
            "text/plain": [
              "                  PC1       PC2       PC3  PC_segment\n",
              "coin_id                                              \n",
              "usd-coin    -0.438408 -0.175337 -0.663388           1\n",
              "eos         -0.693425 -0.473815 -0.527597           1\n",
              "leo-token   -0.413296 -0.674115 -1.076628           1\n",
              "tezos       -0.796176 -0.494409  1.082812           0\n",
              "neo         -0.362120 -0.986914 -0.728752           1\n",
              "binance-usd -0.450211 -0.151019 -0.647401           1\n",
              "ontology    -0.632355 -2.108117 -0.652227           1\n",
              "cdai        -0.513528 -0.142802 -0.656566           1\n",
              "chainlink   -0.450711  0.517699  2.846143           0\n",
              "havven       0.865762 -2.261882  0.275583           1"
            ],
            "text/html": [
              "\n",
              "  <div id=\"df-b158b3e4-0573-4398-bac3-18f4a96cd948\">\n",
              "    <div class=\"colab-df-container\">\n",
              "      <div>\n",
              "<style scoped>\n",
              "    .dataframe tbody tr th:only-of-type {\n",
              "        vertical-align: middle;\n",
              "    }\n",
              "\n",
              "    .dataframe tbody tr th {\n",
              "        vertical-align: top;\n",
              "    }\n",
              "\n",
              "    .dataframe thead th {\n",
              "        text-align: right;\n",
              "    }\n",
              "</style>\n",
              "<table border=\"1\" class=\"dataframe\">\n",
              "  <thead>\n",
              "    <tr style=\"text-align: right;\">\n",
              "      <th></th>\n",
              "      <th>PC1</th>\n",
              "      <th>PC2</th>\n",
              "      <th>PC3</th>\n",
              "      <th>PC_segment</th>\n",
              "    </tr>\n",
              "    <tr>\n",
              "      <th>coin_id</th>\n",
              "      <th></th>\n",
              "      <th></th>\n",
              "      <th></th>\n",
              "      <th></th>\n",
              "    </tr>\n",
              "  </thead>\n",
              "  <tbody>\n",
              "    <tr>\n",
              "      <th>usd-coin</th>\n",
              "      <td>-0.438408</td>\n",
              "      <td>-0.175337</td>\n",
              "      <td>-0.663388</td>\n",
              "      <td>1</td>\n",
              "    </tr>\n",
              "    <tr>\n",
              "      <th>eos</th>\n",
              "      <td>-0.693425</td>\n",
              "      <td>-0.473815</td>\n",
              "      <td>-0.527597</td>\n",
              "      <td>1</td>\n",
              "    </tr>\n",
              "    <tr>\n",
              "      <th>leo-token</th>\n",
              "      <td>-0.413296</td>\n",
              "      <td>-0.674115</td>\n",
              "      <td>-1.076628</td>\n",
              "      <td>1</td>\n",
              "    </tr>\n",
              "    <tr>\n",
              "      <th>tezos</th>\n",
              "      <td>-0.796176</td>\n",
              "      <td>-0.494409</td>\n",
              "      <td>1.082812</td>\n",
              "      <td>0</td>\n",
              "    </tr>\n",
              "    <tr>\n",
              "      <th>neo</th>\n",
              "      <td>-0.362120</td>\n",
              "      <td>-0.986914</td>\n",
              "      <td>-0.728752</td>\n",
              "      <td>1</td>\n",
              "    </tr>\n",
              "    <tr>\n",
              "      <th>binance-usd</th>\n",
              "      <td>-0.450211</td>\n",
              "      <td>-0.151019</td>\n",
              "      <td>-0.647401</td>\n",
              "      <td>1</td>\n",
              "    </tr>\n",
              "    <tr>\n",
              "      <th>ontology</th>\n",
              "      <td>-0.632355</td>\n",
              "      <td>-2.108117</td>\n",
              "      <td>-0.652227</td>\n",
              "      <td>1</td>\n",
              "    </tr>\n",
              "    <tr>\n",
              "      <th>cdai</th>\n",
              "      <td>-0.513528</td>\n",
              "      <td>-0.142802</td>\n",
              "      <td>-0.656566</td>\n",
              "      <td>1</td>\n",
              "    </tr>\n",
              "    <tr>\n",
              "      <th>chainlink</th>\n",
              "      <td>-0.450711</td>\n",
              "      <td>0.517699</td>\n",
              "      <td>2.846143</td>\n",
              "      <td>0</td>\n",
              "    </tr>\n",
              "    <tr>\n",
              "      <th>havven</th>\n",
              "      <td>0.865762</td>\n",
              "      <td>-2.261882</td>\n",
              "      <td>0.275583</td>\n",
              "      <td>1</td>\n",
              "    </tr>\n",
              "  </tbody>\n",
              "</table>\n",
              "</div>\n",
              "      <button class=\"colab-df-convert\" onclick=\"convertToInteractive('df-b158b3e4-0573-4398-bac3-18f4a96cd948')\"\n",
              "              title=\"Convert this dataframe to an interactive table.\"\n",
              "              style=\"display:none;\">\n",
              "        \n",
              "  <svg xmlns=\"http://www.w3.org/2000/svg\" height=\"24px\"viewBox=\"0 0 24 24\"\n",
              "       width=\"24px\">\n",
              "    <path d=\"M0 0h24v24H0V0z\" fill=\"none\"/>\n",
              "    <path d=\"M18.56 5.44l.94 2.06.94-2.06 2.06-.94-2.06-.94-.94-2.06-.94 2.06-2.06.94zm-11 1L8.5 8.5l.94-2.06 2.06-.94-2.06-.94L8.5 2.5l-.94 2.06-2.06.94zm10 10l.94 2.06.94-2.06 2.06-.94-2.06-.94-.94-2.06-.94 2.06-2.06.94z\"/><path d=\"M17.41 7.96l-1.37-1.37c-.4-.4-.92-.59-1.43-.59-.52 0-1.04.2-1.43.59L10.3 9.45l-7.72 7.72c-.78.78-.78 2.05 0 2.83L4 21.41c.39.39.9.59 1.41.59.51 0 1.02-.2 1.41-.59l7.78-7.78 2.81-2.81c.8-.78.8-2.07 0-2.86zM5.41 20L4 18.59l7.72-7.72 1.47 1.35L5.41 20z\"/>\n",
              "  </svg>\n",
              "      </button>\n",
              "      \n",
              "  <style>\n",
              "    .colab-df-container {\n",
              "      display:flex;\n",
              "      flex-wrap:wrap;\n",
              "      gap: 12px;\n",
              "    }\n",
              "\n",
              "    .colab-df-convert {\n",
              "      background-color: #E8F0FE;\n",
              "      border: none;\n",
              "      border-radius: 50%;\n",
              "      cursor: pointer;\n",
              "      display: none;\n",
              "      fill: #1967D2;\n",
              "      height: 32px;\n",
              "      padding: 0 0 0 0;\n",
              "      width: 32px;\n",
              "    }\n",
              "\n",
              "    .colab-df-convert:hover {\n",
              "      background-color: #E2EBFA;\n",
              "      box-shadow: 0px 1px 2px rgba(60, 64, 67, 0.3), 0px 1px 3px 1px rgba(60, 64, 67, 0.15);\n",
              "      fill: #174EA6;\n",
              "    }\n",
              "\n",
              "    [theme=dark] .colab-df-convert {\n",
              "      background-color: #3B4455;\n",
              "      fill: #D2E3FC;\n",
              "    }\n",
              "\n",
              "    [theme=dark] .colab-df-convert:hover {\n",
              "      background-color: #434B5C;\n",
              "      box-shadow: 0px 1px 3px 1px rgba(0, 0, 0, 0.15);\n",
              "      filter: drop-shadow(0px 1px 2px rgba(0, 0, 0, 0.3));\n",
              "      fill: #FFFFFF;\n",
              "    }\n",
              "  </style>\n",
              "\n",
              "      <script>\n",
              "        const buttonEl =\n",
              "          document.querySelector('#df-b158b3e4-0573-4398-bac3-18f4a96cd948 button.colab-df-convert');\n",
              "        buttonEl.style.display =\n",
              "          google.colab.kernel.accessAllowed ? 'block' : 'none';\n",
              "\n",
              "        async function convertToInteractive(key) {\n",
              "          const element = document.querySelector('#df-b158b3e4-0573-4398-bac3-18f4a96cd948');\n",
              "          const dataTable =\n",
              "            await google.colab.kernel.invokeFunction('convertToInteractive',\n",
              "                                                     [key], {});\n",
              "          if (!dataTable) return;\n",
              "\n",
              "          const docLinkHtml = 'Like what you see? Visit the ' +\n",
              "            '<a target=\"_blank\" href=https://colab.research.google.com/notebooks/data_table.ipynb>data table notebook</a>'\n",
              "            + ' to learn more about interactive tables.';\n",
              "          element.innerHTML = '';\n",
              "          dataTable['output_type'] = 'display_data';\n",
              "          await google.colab.output.renderOutput(dataTable, element);\n",
              "          const docLink = document.createElement('div');\n",
              "          docLink.innerHTML = docLinkHtml;\n",
              "          element.appendChild(docLink);\n",
              "        }\n",
              "      </script>\n",
              "    </div>\n",
              "  </div>\n",
              "  "
            ]
          },
          "metadata": {},
          "execution_count": 38
        }
      ],
      "source": [
        "# Create a copy of the DataFrame with the PCA data\n",
        "\n",
        "PCA_crypto_df = crypto_df.copy()\n",
        "# Add a new column to the DataFrame with the predicted clusters\n",
        "PCA_crypto_df['PC_segment'] = crypto_pred\n",
        "\n",
        "# Display sample data\n",
        "PCA_crypto_df.sample(10)"
      ]
    },
    {
      "cell_type": "code",
      "execution_count": 33,
      "metadata": {
        "id": "eZQ2NsYvb8HG",
        "colab": {
          "base_uri": "https://localhost:8080/",
          "height": 455
        },
        "outputId": "81de19c1-45cd-4257-8d58-8ab52fa1c1c5"
      },
      "outputs": [
        {
          "output_type": "display_data",
          "data": {
            "text/plain": [
              "<Figure size 640x480 with 2 Axes>"
            ],
            "image/png": "[encoded data removed]"
          },
          "metadata": {}
        }
      ],
      "source": [
        "# Create a scatter plot using hvPlot by setting\n",
        "# `x=\"PC1\"` and `y=\"PC2\"`.\n",
        "# Color the graph points with the labels found using K-Means and\n",
        "# add the crypto name in the `hover_cols` parameter to identify\n",
        "# the cryptocurrency represented by each data point.\n",
        "PCA_crypto_df.plot.scatter('PC1','PC2', c='PC_segment', colormap='viridis')\n",
        "plt.show()"
      ]
    },
    {
      "cell_type": "markdown",
      "metadata": {
        "id": "6oN7R8oXb8HG"
      },
      "source": [
        "### Visualize and Compare the Results\n",
        "\n",
        "In this section, you will visually analyze the cluster analysis results by contrasting the outcome with and without using the optimization techniques."
      ]
    },
    {
      "cell_type": "code",
      "execution_count": 34,
      "metadata": {
        "id": "uQpbcM7Jb8HG",
        "colab": {
          "base_uri": "https://localhost:8080/",
          "height": 500
        },
        "outputId": "2d03a8b2-9078-4a5a-a8d1-a0a4bbaa7d13"
      },
      "outputs": [
        {
          "output_type": "display_data",
          "data": {
            "text/plain": [
              "<Figure size 1200x600 with 2 Axes>"
            ],
            "image/png": "[encoded data removed]"
          },
          "metadata": {}
        }
      ],
      "source": [
        "# Composite plot to contrast the Elbow curves\n",
        "\n",
        "fig, axes = plt.subplots(1, 2, figsize=(12, 6))\n",
        "axes[0].plot(elbow_df['k'], elbow_df['Inertia'])\n",
        "axes[0].set_xlabel('Number of Clusters (k)')\n",
        "axes[0].set_ylabel('Inertia')\n",
        "axes[0].set_title('Elbow Curve')\n",
        "\n",
        "axes[1].plot(elbow1_df['k'], elbow1_df['Inertia'])\n",
        "axes[1].set_xlabel('Number of Clusters (k)')\n",
        "axes[1].set_ylabel('Inertia')\n",
        "axes[1].set_title('Elbow Curve PC Data')\n",
        "\n",
        "plt.tight_layout()\n",
        "\n",
        "plt.show()\n"
      ]
    },
    {
      "cell_type": "code",
      "execution_count": 39,
      "metadata": {
        "id": "r2rZCPsIb8HG",
        "colab": {
          "base_uri": "https://localhost:8080/",
          "height": 627
        },
        "outputId": "a217f1ca-3e5b-4b59-818d-65c8f1319786"
      },
      "outputs": [
        {
          "output_type": "display_data",
          "data": {
            "text/plain": [
              "<Figure size 1200x600 with 2 Axes>"
            ],
            "image/png": "[encoded data removed]"
          },
          "metadata": {}
        }
      ],
      "source": [
        "# Composite plot to contrast the clusters\n",
        "# YOUR CODE HERE!\n",
        "\n",
        "fig, axes = plt.subplots(1, 2, figsize=(12, 6))\n",
        "\n",
        "axes[0].scatter(market_data_df_3['price_change_percentage_24h'], market_data_df_3['price_change_percentage_7d'],\n",
        "                c=market_data_df_3['segment_3'], cmap='viridis')\n",
        "axes[0].set_xlabel('price_change_percentage_24h')\n",
        "axes[0].set_ylabel('price_change_percentage_7d')\n",
        "axes[0].set_title('Clusters')\n",
        "\n",
        "\n",
        "axes[1].scatter(PCA_crypto_df['PC1'], PCA_crypto_df['PC2'], c=PCA_crypto_df['PC_segment'], cmap='viridis')\n",
        "axes[1].set_xlabel('PC1')\n",
        "axes[1].set_ylabel('PC2')\n",
        "axes[1].set_title('Clusters PC')\n",
        "\n",
        "plt.tight_layout()\n",
        "plt.show()"
      ]
    },
    {
      "cell_type": "markdown",
      "metadata": {
        "id": "pcFEIO8gb8HG"
      },
      "source": [
        "#### Answer the following question:\n",
        "\n",
        "  * **Question:** After visually analyzing the cluster analysis results, what is the impact of using fewer features to cluster the data using K-Means?\n",
        "\n",
        "  * **Answer:**  we can use less features and get similar performances to the original model since we can clearly indentify the clusters. Aso if we reduce number of columns make it easy to visualize the value of the cluster\n",
        "\n"
      ]
    }
  ],
  "metadata": {
    "kernelspec": {
      "display_name": "Python 3 (ipykernel)",
      "language": "python",
      "name": "python3"
    },
    "language_info": {
      "codemirror_mode": {
        "name": "ipython",
        "version": 3
      },
      "file_extension": ".py",
      "mimetype": "text/x-python",
      "name": "python",
      "nbconvert_exporter": "python",
      "pygments_lexer": "ipython3",
      "version": "3.10.4"
    },
    "nteract": {
      "version": "0.28.0"
    },
    "vscode": {
      "interpreter": {
        "hash": "40d3a090f54c6569ab1632332b64b2c03c39dcf918b08424e98f38b5ae0af88f"
      }
    },
    "colab": {
      "provenance": []
    }
  },
  "nbformat": 4,
  "nbformat_minor": 0
}